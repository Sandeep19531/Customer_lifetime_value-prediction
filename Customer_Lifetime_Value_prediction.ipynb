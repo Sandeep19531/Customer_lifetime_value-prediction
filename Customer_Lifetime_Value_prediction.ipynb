{
  "nbformat": 4,
  "nbformat_minor": 0,
  "metadata": {
    "colab": {
      "name": "Customer_Lifetime_Value_prediction",
      "provenance": [],
      "collapsed_sections": []
    },
    "kernelspec": {
      "name": "python3",
      "display_name": "Python 3"
    }
  },
  "cells": [
    {
      "cell_type": "markdown",
      "metadata": {
        "id": "fde3vx7fp8mp"
      },
      "source": [
        "# Submitted By: Sandeep"
      ]
    },
    {
      "cell_type": "code",
      "metadata": {
        "id": "MnHbYImcKj2G"
      },
      "source": [
        "import pandas as pd"
      ],
      "execution_count": null,
      "outputs": []
    },
    {
      "cell_type": "code",
      "metadata": {
        "colab": {
          "base_uri": "https://localhost:8080/"
        },
        "id": "q70WPaZ9jV5A",
        "outputId": "3f922518-027b-42be-b69e-12732fbd99e1"
      },
      "source": [
        "! ls"
      ],
      "execution_count": null,
      "outputs": [
        {
          "output_type": "stream",
          "text": [
            "Online_Retail.xlsx  sample_data\n"
          ],
          "name": "stdout"
        }
      ]
    },
    {
      "cell_type": "code",
      "metadata": {
        "id": "cJifpcO7Kyqo"
      },
      "source": [
        "df= pd.read_excel('Online_Retail.xlsx')"
      ],
      "execution_count": null,
      "outputs": []
    },
    {
      "cell_type": "code",
      "metadata": {
        "colab": {
          "base_uri": "https://localhost:8080/",
          "height": 289
        },
        "id": "PzpiA-7HM03F",
        "outputId": "e9facb6e-542a-49e8-c3f3-b3e96a6281eb"
      },
      "source": [
        "df.head()"
      ],
      "execution_count": null,
      "outputs": [
        {
          "output_type": "execute_result",
          "data": {
            "text/html": [
              "<div>\n",
              "<style scoped>\n",
              "    .dataframe tbody tr th:only-of-type {\n",
              "        vertical-align: middle;\n",
              "    }\n",
              "\n",
              "    .dataframe tbody tr th {\n",
              "        vertical-align: top;\n",
              "    }\n",
              "\n",
              "    .dataframe thead th {\n",
              "        text-align: right;\n",
              "    }\n",
              "</style>\n",
              "<table border=\"1\" class=\"dataframe\">\n",
              "  <thead>\n",
              "    <tr style=\"text-align: right;\">\n",
              "      <th></th>\n",
              "      <th>InvoiceNo</th>\n",
              "      <th>StockCode</th>\n",
              "      <th>Description</th>\n",
              "      <th>Quantity</th>\n",
              "      <th>InvoiceDate</th>\n",
              "      <th>UnitPrice</th>\n",
              "      <th>CustomerID</th>\n",
              "      <th>Country</th>\n",
              "    </tr>\n",
              "  </thead>\n",
              "  <tbody>\n",
              "    <tr>\n",
              "      <th>0</th>\n",
              "      <td>536365</td>\n",
              "      <td>85123A</td>\n",
              "      <td>WHITE HANGING HEART T-LIGHT HOLDER</td>\n",
              "      <td>6</td>\n",
              "      <td>2010-12-01 08:26:00</td>\n",
              "      <td>2.55</td>\n",
              "      <td>17850.0</td>\n",
              "      <td>United Kingdom</td>\n",
              "    </tr>\n",
              "    <tr>\n",
              "      <th>1</th>\n",
              "      <td>536365</td>\n",
              "      <td>71053</td>\n",
              "      <td>WHITE METAL LANTERN</td>\n",
              "      <td>6</td>\n",
              "      <td>2010-12-01 08:26:00</td>\n",
              "      <td>3.39</td>\n",
              "      <td>17850.0</td>\n",
              "      <td>United Kingdom</td>\n",
              "    </tr>\n",
              "    <tr>\n",
              "      <th>2</th>\n",
              "      <td>536365</td>\n",
              "      <td>84406B</td>\n",
              "      <td>CREAM CUPID HEARTS COAT HANGER</td>\n",
              "      <td>8</td>\n",
              "      <td>2010-12-01 08:26:00</td>\n",
              "      <td>2.75</td>\n",
              "      <td>17850.0</td>\n",
              "      <td>United Kingdom</td>\n",
              "    </tr>\n",
              "    <tr>\n",
              "      <th>3</th>\n",
              "      <td>536365</td>\n",
              "      <td>84029G</td>\n",
              "      <td>KNITTED UNION FLAG HOT WATER BOTTLE</td>\n",
              "      <td>6</td>\n",
              "      <td>2010-12-01 08:26:00</td>\n",
              "      <td>3.39</td>\n",
              "      <td>17850.0</td>\n",
              "      <td>United Kingdom</td>\n",
              "    </tr>\n",
              "    <tr>\n",
              "      <th>4</th>\n",
              "      <td>536365</td>\n",
              "      <td>84029E</td>\n",
              "      <td>RED WOOLLY HOTTIE WHITE HEART.</td>\n",
              "      <td>6</td>\n",
              "      <td>2010-12-01 08:26:00</td>\n",
              "      <td>3.39</td>\n",
              "      <td>17850.0</td>\n",
              "      <td>United Kingdom</td>\n",
              "    </tr>\n",
              "  </tbody>\n",
              "</table>\n",
              "</div>"
            ],
            "text/plain": [
              "  InvoiceNo StockCode  ... CustomerID         Country\n",
              "0    536365    85123A  ...    17850.0  United Kingdom\n",
              "1    536365     71053  ...    17850.0  United Kingdom\n",
              "2    536365    84406B  ...    17850.0  United Kingdom\n",
              "3    536365    84029G  ...    17850.0  United Kingdom\n",
              "4    536365    84029E  ...    17850.0  United Kingdom\n",
              "\n",
              "[5 rows x 8 columns]"
            ]
          },
          "metadata": {
            "tags": []
          },
          "execution_count": 9
        }
      ]
    },
    {
      "cell_type": "code",
      "metadata": {
        "colab": {
          "base_uri": "https://localhost:8080/"
        },
        "id": "kTOb2m14NIJH",
        "outputId": "bc6a8ba2-207c-407d-c0ff-515b0e4fd534"
      },
      "source": [
        "df.dtypes"
      ],
      "execution_count": null,
      "outputs": [
        {
          "output_type": "execute_result",
          "data": {
            "text/plain": [
              "InvoiceNo              object\n",
              "StockCode              object\n",
              "Description            object\n",
              "Quantity                int64\n",
              "InvoiceDate    datetime64[ns]\n",
              "UnitPrice             float64\n",
              "CustomerID            float64\n",
              "Country                object\n",
              "dtype: object"
            ]
          },
          "metadata": {
            "tags": []
          },
          "execution_count": 10
        }
      ]
    },
    {
      "cell_type": "code",
      "metadata": {
        "colab": {
          "base_uri": "https://localhost:8080/"
        },
        "id": "QN86ebcJNJ7b",
        "outputId": "24988071-9614-43f3-9c94-270ce58c74d9"
      },
      "source": [
        "df.InvoiceNo.unique"
      ],
      "execution_count": null,
      "outputs": [
        {
          "output_type": "execute_result",
          "data": {
            "text/plain": [
              "<bound method Series.unique of 0         536365\n",
              "1         536365\n",
              "2         536365\n",
              "3         536365\n",
              "4         536365\n",
              "           ...  \n",
              "541904    581587\n",
              "541905    581587\n",
              "541906    581587\n",
              "541907    581587\n",
              "541908    581587\n",
              "Name: InvoiceNo, Length: 541909, dtype: object>"
            ]
          },
          "metadata": {
            "tags": []
          },
          "execution_count": 11
        }
      ]
    },
    {
      "cell_type": "code",
      "metadata": {
        "colab": {
          "base_uri": "https://localhost:8080/"
        },
        "id": "I_NlJJIONajK",
        "outputId": "312016bf-e471-47fe-ec48-489e74ff0f58"
      },
      "source": [
        "len(df)"
      ],
      "execution_count": null,
      "outputs": [
        {
          "output_type": "execute_result",
          "data": {
            "text/plain": [
              "541909"
            ]
          },
          "metadata": {
            "tags": []
          },
          "execution_count": 12
        }
      ]
    },
    {
      "cell_type": "code",
      "metadata": {
        "colab": {
          "base_uri": "https://localhost:8080/"
        },
        "id": "OaFZccnFNd5B",
        "outputId": "b2414b22-5d78-4099-b536-fd118f5f95d3"
      },
      "source": [
        "df.drop_duplicates(keep='first',inplace=True)\n",
        "len(df)"
      ],
      "execution_count": null,
      "outputs": [
        {
          "output_type": "execute_result",
          "data": {
            "text/plain": [
              "536641"
            ]
          },
          "metadata": {
            "tags": []
          },
          "execution_count": 13
        }
      ]
    },
    {
      "cell_type": "code",
      "metadata": {
        "colab": {
          "base_uri": "https://localhost:8080/"
        },
        "id": "i6QN-TfIN52u",
        "outputId": "00d83208-c1cb-480c-c3e2-991fd8a2b583"
      },
      "source": [
        "df.isnull().sum()"
      ],
      "execution_count": null,
      "outputs": [
        {
          "output_type": "execute_result",
          "data": {
            "text/plain": [
              "InvoiceNo           0\n",
              "StockCode           0\n",
              "Description      1454\n",
              "Quantity            0\n",
              "InvoiceDate         0\n",
              "UnitPrice           0\n",
              "CustomerID     135037\n",
              "Country             0\n",
              "dtype: int64"
            ]
          },
          "metadata": {
            "tags": []
          },
          "execution_count": 14
        }
      ]
    },
    {
      "cell_type": "code",
      "metadata": {
        "colab": {
          "base_uri": "https://localhost:8080/"
        },
        "id": "MTQTg6yjODIf",
        "outputId": "fbcec0ec-9460-4863-cb36-c565673b1196"
      },
      "source": [
        "df = df[df['Quantity']>0]\n",
        "len(df)"
      ],
      "execution_count": null,
      "outputs": [
        {
          "output_type": "execute_result",
          "data": {
            "text/plain": [
              "526054"
            ]
          },
          "metadata": {
            "tags": []
          },
          "execution_count": 15
        }
      ]
    },
    {
      "cell_type": "code",
      "metadata": {
        "colab": {
          "base_uri": "https://localhost:8080/"
        },
        "id": "TC6MCiaeOP_V",
        "outputId": "cf2ce41e-eab8-4885-de91-46ad038d88da"
      },
      "source": [
        "df.InvoiceNo = df.InvoiceNo.astype(str)\n",
        "df.dtypes"
      ],
      "execution_count": null,
      "outputs": [
        {
          "output_type": "execute_result",
          "data": {
            "text/plain": [
              "InvoiceNo              object\n",
              "StockCode              object\n",
              "Description            object\n",
              "Quantity                int64\n",
              "InvoiceDate    datetime64[ns]\n",
              "UnitPrice             float64\n",
              "CustomerID            float64\n",
              "Country                object\n",
              "dtype: object"
            ]
          },
          "metadata": {
            "tags": []
          },
          "execution_count": 16
        }
      ]
    },
    {
      "cell_type": "code",
      "metadata": {
        "colab": {
          "base_uri": "https://localhost:8080/"
        },
        "id": "DE6yPDzcRjhi",
        "outputId": "0085781e-804a-420e-81dd-86fe36478003"
      },
      "source": [
        "#number of canceled transactions\n",
        "count =0\n",
        "for i in df.InvoiceNo:\n",
        "  if i[0] == 'C' or str(i)[0] == 'c':\n",
        "    count += 1\n",
        "print(count)"
      ],
      "execution_count": null,
      "outputs": [
        {
          "output_type": "stream",
          "text": [
            "0\n"
          ],
          "name": "stdout"
        }
      ]
    },
    {
      "cell_type": "code",
      "metadata": {
        "colab": {
          "base_uri": "https://localhost:8080/"
        },
        "id": "I5c-sOw-Rnme",
        "outputId": "e2bda4f0-587c-4bc0-9e5b-190d623d88b9"
      },
      "source": [
        "df = df[~df.InvoiceNo.str.contains(\"C\")]\n",
        "# the number is 0 because we have already remove  quantity with 0 value.\n",
        "len(df)"
      ],
      "execution_count": null,
      "outputs": [
        {
          "output_type": "execute_result",
          "data": {
            "text/plain": [
              "526054"
            ]
          },
          "metadata": {
            "tags": []
          },
          "execution_count": 18
        }
      ]
    },
    {
      "cell_type": "code",
      "metadata": {
        "colab": {
          "base_uri": "https://localhost:8080/",
          "height": 111
        },
        "id": "mpWsQU6WRvAV",
        "outputId": "5bad26c4-01be-4b85-d778-ddc6786dfe06"
      },
      "source": [
        "df[df.UnitPrice < 0]"
      ],
      "execution_count": null,
      "outputs": [
        {
          "output_type": "execute_result",
          "data": {
            "text/html": [
              "<div>\n",
              "<style scoped>\n",
              "    .dataframe tbody tr th:only-of-type {\n",
              "        vertical-align: middle;\n",
              "    }\n",
              "\n",
              "    .dataframe tbody tr th {\n",
              "        vertical-align: top;\n",
              "    }\n",
              "\n",
              "    .dataframe thead th {\n",
              "        text-align: right;\n",
              "    }\n",
              "</style>\n",
              "<table border=\"1\" class=\"dataframe\">\n",
              "  <thead>\n",
              "    <tr style=\"text-align: right;\">\n",
              "      <th></th>\n",
              "      <th>InvoiceNo</th>\n",
              "      <th>StockCode</th>\n",
              "      <th>Description</th>\n",
              "      <th>Quantity</th>\n",
              "      <th>InvoiceDate</th>\n",
              "      <th>UnitPrice</th>\n",
              "      <th>CustomerID</th>\n",
              "      <th>Country</th>\n",
              "    </tr>\n",
              "  </thead>\n",
              "  <tbody>\n",
              "    <tr>\n",
              "      <th>299983</th>\n",
              "      <td>A563186</td>\n",
              "      <td>B</td>\n",
              "      <td>Adjust bad debt</td>\n",
              "      <td>1</td>\n",
              "      <td>2011-08-12 14:51:00</td>\n",
              "      <td>-11062.06</td>\n",
              "      <td>NaN</td>\n",
              "      <td>United Kingdom</td>\n",
              "    </tr>\n",
              "    <tr>\n",
              "      <th>299984</th>\n",
              "      <td>A563187</td>\n",
              "      <td>B</td>\n",
              "      <td>Adjust bad debt</td>\n",
              "      <td>1</td>\n",
              "      <td>2011-08-12 14:52:00</td>\n",
              "      <td>-11062.06</td>\n",
              "      <td>NaN</td>\n",
              "      <td>United Kingdom</td>\n",
              "    </tr>\n",
              "  </tbody>\n",
              "</table>\n",
              "</div>"
            ],
            "text/plain": [
              "       InvoiceNo StockCode  ... CustomerID         Country\n",
              "299983   A563186         B  ...        NaN  United Kingdom\n",
              "299984   A563187         B  ...        NaN  United Kingdom\n",
              "\n",
              "[2 rows x 8 columns]"
            ]
          },
          "metadata": {
            "tags": []
          },
          "execution_count": 19
        }
      ]
    },
    {
      "cell_type": "code",
      "metadata": {
        "colab": {
          "base_uri": "https://localhost:8080/"
        },
        "id": "4WWyQNnJShah",
        "outputId": "e96a7f39-7f6f-4b71-90ed-a6b6f3a0f10b"
      },
      "source": [
        "df = df.dropna()\n",
        "len(df)"
      ],
      "execution_count": null,
      "outputs": [
        {
          "output_type": "execute_result",
          "data": {
            "text/plain": [
              "392732"
            ]
          },
          "metadata": {
            "tags": []
          },
          "execution_count": 20
        }
      ]
    },
    {
      "cell_type": "code",
      "metadata": {
        "id": "PMgFQ3XUUie1"
      },
      "source": [
        "df.CustomerID = df.CustomerID.astype(str)"
      ],
      "execution_count": null,
      "outputs": []
    },
    {
      "cell_type": "code",
      "metadata": {
        "colab": {
          "base_uri": "https://localhost:8080/",
          "height": 297
        },
        "id": "i_W607NMUAii",
        "outputId": "2a426aff-2ba5-4eba-f7f2-6d03904165a1"
      },
      "source": [
        "df.describe()"
      ],
      "execution_count": null,
      "outputs": [
        {
          "output_type": "execute_result",
          "data": {
            "text/html": [
              "<div>\n",
              "<style scoped>\n",
              "    .dataframe tbody tr th:only-of-type {\n",
              "        vertical-align: middle;\n",
              "    }\n",
              "\n",
              "    .dataframe tbody tr th {\n",
              "        vertical-align: top;\n",
              "    }\n",
              "\n",
              "    .dataframe thead th {\n",
              "        text-align: right;\n",
              "    }\n",
              "</style>\n",
              "<table border=\"1\" class=\"dataframe\">\n",
              "  <thead>\n",
              "    <tr style=\"text-align: right;\">\n",
              "      <th></th>\n",
              "      <th>Quantity</th>\n",
              "      <th>UnitPrice</th>\n",
              "    </tr>\n",
              "  </thead>\n",
              "  <tbody>\n",
              "    <tr>\n",
              "      <th>count</th>\n",
              "      <td>392732.000000</td>\n",
              "      <td>392732.000000</td>\n",
              "    </tr>\n",
              "    <tr>\n",
              "      <th>mean</th>\n",
              "      <td>13.153718</td>\n",
              "      <td>3.125596</td>\n",
              "    </tr>\n",
              "    <tr>\n",
              "      <th>std</th>\n",
              "      <td>181.588420</td>\n",
              "      <td>22.240725</td>\n",
              "    </tr>\n",
              "    <tr>\n",
              "      <th>min</th>\n",
              "      <td>1.000000</td>\n",
              "      <td>0.000000</td>\n",
              "    </tr>\n",
              "    <tr>\n",
              "      <th>25%</th>\n",
              "      <td>2.000000</td>\n",
              "      <td>1.250000</td>\n",
              "    </tr>\n",
              "    <tr>\n",
              "      <th>50%</th>\n",
              "      <td>6.000000</td>\n",
              "      <td>1.950000</td>\n",
              "    </tr>\n",
              "    <tr>\n",
              "      <th>75%</th>\n",
              "      <td>12.000000</td>\n",
              "      <td>3.750000</td>\n",
              "    </tr>\n",
              "    <tr>\n",
              "      <th>max</th>\n",
              "      <td>80995.000000</td>\n",
              "      <td>8142.750000</td>\n",
              "    </tr>\n",
              "  </tbody>\n",
              "</table>\n",
              "</div>"
            ],
            "text/plain": [
              "            Quantity      UnitPrice\n",
              "count  392732.000000  392732.000000\n",
              "mean       13.153718       3.125596\n",
              "std       181.588420      22.240725\n",
              "min         1.000000       0.000000\n",
              "25%         2.000000       1.250000\n",
              "50%         6.000000       1.950000\n",
              "75%        12.000000       3.750000\n",
              "max     80995.000000    8142.750000"
            ]
          },
          "metadata": {
            "tags": []
          },
          "execution_count": 22
        }
      ]
    },
    {
      "cell_type": "code",
      "metadata": {
        "colab": {
          "base_uri": "https://localhost:8080/"
        },
        "id": "wr3OKlepUpFT",
        "outputId": "d6b7fccc-7f80-4060-a9be-323aeb95b9a6"
      },
      "source": [
        "df.Country.unique()"
      ],
      "execution_count": null,
      "outputs": [
        {
          "output_type": "execute_result",
          "data": {
            "text/plain": [
              "array(['United Kingdom', 'France', 'Australia', 'Netherlands', 'Germany',\n",
              "       'Norway', 'EIRE', 'Switzerland', 'Spain', 'Poland', 'Portugal',\n",
              "       'Italy', 'Belgium', 'Lithuania', 'Japan', 'Iceland',\n",
              "       'Channel Islands', 'Denmark', 'Cyprus', 'Sweden', 'Finland',\n",
              "       'Austria', 'Greece', 'Singapore', 'Lebanon',\n",
              "       'United Arab Emirates', 'Israel', 'Saudi Arabia', 'Czech Republic',\n",
              "       'Canada', 'Unspecified', 'Brazil', 'USA', 'European Community',\n",
              "       'Bahrain', 'Malta', 'RSA'], dtype=object)"
            ]
          },
          "metadata": {
            "tags": []
          },
          "execution_count": 23
        }
      ]
    },
    {
      "cell_type": "code",
      "metadata": {
        "colab": {
          "base_uri": "https://localhost:8080/"
        },
        "id": "H1GdcQ0bvGG1",
        "outputId": "55ffc366-283c-4d1d-c04b-4b1acd0f09bc"
      },
      "source": [
        "df.InvoiceDate.describe()"
      ],
      "execution_count": null,
      "outputs": [
        {
          "output_type": "stream",
          "text": [
            "/usr/local/lib/python3.6/dist-packages/ipykernel_launcher.py:1: FutureWarning: Treating datetime data as categorical rather than numeric in `.describe` is deprecated and will be removed in a future version of pandas. Specify `datetime_is_numeric=True` to silence this warning and adopt the future behavior now.\n",
            "  \"\"\"Entry point for launching an IPython kernel.\n"
          ],
          "name": "stderr"
        },
        {
          "output_type": "execute_result",
          "data": {
            "text/plain": [
              "count                  392732\n",
              "unique                  17286\n",
              "top       2011-11-14 15:27:00\n",
              "freq                      542\n",
              "first     2010-12-01 08:26:00\n",
              "last      2011-12-09 12:50:00\n",
              "Name: InvoiceDate, dtype: object"
            ]
          },
          "metadata": {
            "tags": []
          },
          "execution_count": 24
        }
      ]
    },
    {
      "cell_type": "code",
      "metadata": {
        "id": "bJ8GagbIU1yi"
      },
      "source": [
        "df1 = df[df['InvoiceDate']>= \"2010-12-09\"] # one year data\n",
        "len(df1)\n",
        "tx_data = df"
      ],
      "execution_count": null,
      "outputs": []
    },
    {
      "cell_type": "code",
      "metadata": {
        "id": "zvB-35UG3bKS"
      },
      "source": [
        "tx_uk = df[df['Country']=='United Kingdom'].reset_index(drop=True)"
      ],
      "execution_count": null,
      "outputs": []
    },
    {
      "cell_type": "code",
      "metadata": {
        "id": "fjVzg8j09SKW"
      },
      "source": [
        "tx_uk['InvoiceYearMonth'] = tx_uk['InvoiceDate'].map(lambda date: 100*date.year + date.month)"
      ],
      "execution_count": null,
      "outputs": []
    },
    {
      "cell_type": "code",
      "metadata": {
        "colab": {
          "base_uri": "https://localhost:8080/",
          "height": 357
        },
        "id": "hK-P8CZm9QI_",
        "outputId": "e66cc8af-2a27-4680-a37a-1974102572b4"
      },
      "source": [
        "tx_uk.head()"
      ],
      "execution_count": null,
      "outputs": [
        {
          "output_type": "execute_result",
          "data": {
            "text/html": [
              "<div>\n",
              "<style scoped>\n",
              "    .dataframe tbody tr th:only-of-type {\n",
              "        vertical-align: middle;\n",
              "    }\n",
              "\n",
              "    .dataframe tbody tr th {\n",
              "        vertical-align: top;\n",
              "    }\n",
              "\n",
              "    .dataframe thead th {\n",
              "        text-align: right;\n",
              "    }\n",
              "</style>\n",
              "<table border=\"1\" class=\"dataframe\">\n",
              "  <thead>\n",
              "    <tr style=\"text-align: right;\">\n",
              "      <th></th>\n",
              "      <th>InvoiceNo</th>\n",
              "      <th>StockCode</th>\n",
              "      <th>Description</th>\n",
              "      <th>Quantity</th>\n",
              "      <th>InvoiceDate</th>\n",
              "      <th>UnitPrice</th>\n",
              "      <th>CustomerID</th>\n",
              "      <th>Country</th>\n",
              "      <th>InvoiceYearMonth</th>\n",
              "    </tr>\n",
              "  </thead>\n",
              "  <tbody>\n",
              "    <tr>\n",
              "      <th>0</th>\n",
              "      <td>536365</td>\n",
              "      <td>85123A</td>\n",
              "      <td>WHITE HANGING HEART T-LIGHT HOLDER</td>\n",
              "      <td>6</td>\n",
              "      <td>2010-12-01 08:26:00</td>\n",
              "      <td>2.55</td>\n",
              "      <td>17850.0</td>\n",
              "      <td>United Kingdom</td>\n",
              "      <td>201012</td>\n",
              "    </tr>\n",
              "    <tr>\n",
              "      <th>1</th>\n",
              "      <td>536365</td>\n",
              "      <td>71053</td>\n",
              "      <td>WHITE METAL LANTERN</td>\n",
              "      <td>6</td>\n",
              "      <td>2010-12-01 08:26:00</td>\n",
              "      <td>3.39</td>\n",
              "      <td>17850.0</td>\n",
              "      <td>United Kingdom</td>\n",
              "      <td>201012</td>\n",
              "    </tr>\n",
              "    <tr>\n",
              "      <th>2</th>\n",
              "      <td>536365</td>\n",
              "      <td>84406B</td>\n",
              "      <td>CREAM CUPID HEARTS COAT HANGER</td>\n",
              "      <td>8</td>\n",
              "      <td>2010-12-01 08:26:00</td>\n",
              "      <td>2.75</td>\n",
              "      <td>17850.0</td>\n",
              "      <td>United Kingdom</td>\n",
              "      <td>201012</td>\n",
              "    </tr>\n",
              "    <tr>\n",
              "      <th>3</th>\n",
              "      <td>536365</td>\n",
              "      <td>84029G</td>\n",
              "      <td>KNITTED UNION FLAG HOT WATER BOTTLE</td>\n",
              "      <td>6</td>\n",
              "      <td>2010-12-01 08:26:00</td>\n",
              "      <td>3.39</td>\n",
              "      <td>17850.0</td>\n",
              "      <td>United Kingdom</td>\n",
              "      <td>201012</td>\n",
              "    </tr>\n",
              "    <tr>\n",
              "      <th>4</th>\n",
              "      <td>536365</td>\n",
              "      <td>84029E</td>\n",
              "      <td>RED WOOLLY HOTTIE WHITE HEART.</td>\n",
              "      <td>6</td>\n",
              "      <td>2010-12-01 08:26:00</td>\n",
              "      <td>3.39</td>\n",
              "      <td>17850.0</td>\n",
              "      <td>United Kingdom</td>\n",
              "      <td>201012</td>\n",
              "    </tr>\n",
              "  </tbody>\n",
              "</table>\n",
              "</div>"
            ],
            "text/plain": [
              "  InvoiceNo StockCode  ...         Country  InvoiceYearMonth\n",
              "0    536365    85123A  ...  United Kingdom            201012\n",
              "1    536365     71053  ...  United Kingdom            201012\n",
              "2    536365    84406B  ...  United Kingdom            201012\n",
              "3    536365    84029G  ...  United Kingdom            201012\n",
              "4    536365    84029E  ...  United Kingdom            201012\n",
              "\n",
              "[5 rows x 9 columns]"
            ]
          },
          "metadata": {
            "tags": []
          },
          "execution_count": 28
        }
      ]
    },
    {
      "cell_type": "markdown",
      "metadata": {
        "id": "B_edfJqT9pt3"
      },
      "source": [
        "*Segmentation technique*\n",
        "**RFM**"
      ]
    },
    {
      "cell_type": "markdown",
      "metadata": {
        "id": "JnLqVgNH9xld"
      },
      "source": [
        "Recency"
      ]
    },
    {
      "cell_type": "code",
      "metadata": {
        "id": "knir7jLn9wd0"
      },
      "source": [
        "tx_user = pd.DataFrame(tx_data['CustomerID'].unique())\n",
        "tx_user.columns = ['CustomerID']"
      ],
      "execution_count": null,
      "outputs": []
    },
    {
      "cell_type": "code",
      "metadata": {
        "id": "Njwfi4Xs-DcI"
      },
      "source": [
        "tx_max_purchase = tx_uk.groupby('CustomerID').InvoiceDate.max().reset_index()\n",
        "tx_max_purchase.columns = ['CustomerID','MaxPurchaseDate']"
      ],
      "execution_count": null,
      "outputs": []
    },
    {
      "cell_type": "code",
      "metadata": {
        "colab": {
          "base_uri": "https://localhost:8080/",
          "height": 204
        },
        "id": "1ctat0zx-aOZ",
        "outputId": "fb4f4165-93e1-481e-c882-32b4f108ed0f"
      },
      "source": [
        "tx_max_purchase['Recency'] = (tx_max_purchase['MaxPurchaseDate'].max() - tx_max_purchase['MaxPurchaseDate']).dt.days\n",
        "tx_max_purchase.head()"
      ],
      "execution_count": null,
      "outputs": [
        {
          "output_type": "execute_result",
          "data": {
            "text/html": [
              "<div>\n",
              "<style scoped>\n",
              "    .dataframe tbody tr th:only-of-type {\n",
              "        vertical-align: middle;\n",
              "    }\n",
              "\n",
              "    .dataframe tbody tr th {\n",
              "        vertical-align: top;\n",
              "    }\n",
              "\n",
              "    .dataframe thead th {\n",
              "        text-align: right;\n",
              "    }\n",
              "</style>\n",
              "<table border=\"1\" class=\"dataframe\">\n",
              "  <thead>\n",
              "    <tr style=\"text-align: right;\">\n",
              "      <th></th>\n",
              "      <th>CustomerID</th>\n",
              "      <th>MaxPurchaseDate</th>\n",
              "      <th>Recency</th>\n",
              "    </tr>\n",
              "  </thead>\n",
              "  <tbody>\n",
              "    <tr>\n",
              "      <th>0</th>\n",
              "      <td>12346.0</td>\n",
              "      <td>2011-01-18 10:01:00</td>\n",
              "      <td>325</td>\n",
              "    </tr>\n",
              "    <tr>\n",
              "      <th>1</th>\n",
              "      <td>12747.0</td>\n",
              "      <td>2011-12-07 14:34:00</td>\n",
              "      <td>1</td>\n",
              "    </tr>\n",
              "    <tr>\n",
              "      <th>2</th>\n",
              "      <td>12748.0</td>\n",
              "      <td>2011-12-09 12:20:00</td>\n",
              "      <td>0</td>\n",
              "    </tr>\n",
              "    <tr>\n",
              "      <th>3</th>\n",
              "      <td>12749.0</td>\n",
              "      <td>2011-12-06 09:56:00</td>\n",
              "      <td>3</td>\n",
              "    </tr>\n",
              "    <tr>\n",
              "      <th>4</th>\n",
              "      <td>12820.0</td>\n",
              "      <td>2011-12-06 15:12:00</td>\n",
              "      <td>2</td>\n",
              "    </tr>\n",
              "  </tbody>\n",
              "</table>\n",
              "</div>"
            ],
            "text/plain": [
              "  CustomerID     MaxPurchaseDate  Recency\n",
              "0    12346.0 2011-01-18 10:01:00      325\n",
              "1    12747.0 2011-12-07 14:34:00        1\n",
              "2    12748.0 2011-12-09 12:20:00        0\n",
              "3    12749.0 2011-12-06 09:56:00        3\n",
              "4    12820.0 2011-12-06 15:12:00        2"
            ]
          },
          "metadata": {
            "tags": []
          },
          "execution_count": 31
        }
      ]
    },
    {
      "cell_type": "code",
      "metadata": {
        "colab": {
          "base_uri": "https://localhost:8080/",
          "height": 204
        },
        "id": "Ihoc3hQF-kqr",
        "outputId": "ea30c2b1-3a72-43f4-a815-0157f8b2360a"
      },
      "source": [
        "tx_user = pd.merge(tx_user, tx_max_purchase[['CustomerID','Recency']], on='CustomerID')\n",
        "tx_user.head()"
      ],
      "execution_count": null,
      "outputs": [
        {
          "output_type": "execute_result",
          "data": {
            "text/html": [
              "<div>\n",
              "<style scoped>\n",
              "    .dataframe tbody tr th:only-of-type {\n",
              "        vertical-align: middle;\n",
              "    }\n",
              "\n",
              "    .dataframe tbody tr th {\n",
              "        vertical-align: top;\n",
              "    }\n",
              "\n",
              "    .dataframe thead th {\n",
              "        text-align: right;\n",
              "    }\n",
              "</style>\n",
              "<table border=\"1\" class=\"dataframe\">\n",
              "  <thead>\n",
              "    <tr style=\"text-align: right;\">\n",
              "      <th></th>\n",
              "      <th>CustomerID</th>\n",
              "      <th>Recency</th>\n",
              "    </tr>\n",
              "  </thead>\n",
              "  <tbody>\n",
              "    <tr>\n",
              "      <th>0</th>\n",
              "      <td>17850.0</td>\n",
              "      <td>371</td>\n",
              "    </tr>\n",
              "    <tr>\n",
              "      <th>1</th>\n",
              "      <td>13047.0</td>\n",
              "      <td>31</td>\n",
              "    </tr>\n",
              "    <tr>\n",
              "      <th>2</th>\n",
              "      <td>13748.0</td>\n",
              "      <td>95</td>\n",
              "    </tr>\n",
              "    <tr>\n",
              "      <th>3</th>\n",
              "      <td>15100.0</td>\n",
              "      <td>333</td>\n",
              "    </tr>\n",
              "    <tr>\n",
              "      <th>4</th>\n",
              "      <td>15291.0</td>\n",
              "      <td>25</td>\n",
              "    </tr>\n",
              "  </tbody>\n",
              "</table>\n",
              "</div>"
            ],
            "text/plain": [
              "  CustomerID  Recency\n",
              "0    17850.0      371\n",
              "1    13047.0       31\n",
              "2    13748.0       95\n",
              "3    15100.0      333\n",
              "4    15291.0       25"
            ]
          },
          "metadata": {
            "tags": []
          },
          "execution_count": 32
        }
      ]
    },
    {
      "cell_type": "code",
      "metadata": {
        "colab": {
          "base_uri": "https://localhost:8080/",
          "height": 290
        },
        "id": "u8xUa7x5-nPX",
        "outputId": "fcf6773a-3ded-44e4-df83-c6605b3e5f61"
      },
      "source": [
        "\n",
        "from sklearn.cluster import KMeans\n",
        "import matplotlib.pyplot as plt\n",
        "\n",
        "sse={} # error\n",
        "tx_recency = tx_user[['Recency']]\n",
        "for k in range(1, 10):\n",
        "    kmeans = KMeans(n_clusters=k, max_iter=1000).fit(tx_recency)\n",
        "    tx_recency[\"clusters\"] = kmeans.labels_  #cluster names corresponding to recency values \n",
        "    sse[k] = kmeans.inertia_ #sse corresponding to clusters\n",
        "plt.figure()\n",
        "plt.plot(list(sse.keys()), list(sse.values()))\n",
        "plt.xlabel(\"Number of cluster\")\n",
        "plt.show()"
      ],
      "execution_count": null,
      "outputs": [
        {
          "output_type": "display_data",
          "data": {
            "image/png": "[encoded data removed]",
            "text/plain": [
              "<Figure size 432x288 with 1 Axes>"
            ]
          },
          "metadata": {
            "tags": [],
            "needs_background": "light"
          }
        }
      ]
    },
    {
      "cell_type": "code",
      "metadata": {
        "id": "qhTzq9j1-qg2"
      },
      "source": [
        "#going with 3 clusters\n",
        "kmeans = KMeans(n_clusters=3)\n",
        "tx_user['RecencyCluster'] = kmeans.fit_predict(tx_user[['Recency']])\n"
      ],
      "execution_count": null,
      "outputs": []
    },
    {
      "cell_type": "code",
      "metadata": {
        "colab": {
          "base_uri": "https://localhost:8080/",
          "height": 173
        },
        "id": "9ZNFEi16_RDe",
        "outputId": "c5900b90-db00-4df4-9a34-b718bddc2ea2"
      },
      "source": [
        "tx_user.groupby('RecencyCluster')['Recency'].describe()"
      ],
      "execution_count": null,
      "outputs": [
        {
          "output_type": "execute_result",
          "data": {
            "text/html": [
              "<div>\n",
              "<style scoped>\n",
              "    .dataframe tbody tr th:only-of-type {\n",
              "        vertical-align: middle;\n",
              "    }\n",
              "\n",
              "    .dataframe tbody tr th {\n",
              "        vertical-align: top;\n",
              "    }\n",
              "\n",
              "    .dataframe thead th {\n",
              "        text-align: right;\n",
              "    }\n",
              "</style>\n",
              "<table border=\"1\" class=\"dataframe\">\n",
              "  <thead>\n",
              "    <tr style=\"text-align: right;\">\n",
              "      <th></th>\n",
              "      <th>count</th>\n",
              "      <th>mean</th>\n",
              "      <th>std</th>\n",
              "      <th>min</th>\n",
              "      <th>25%</th>\n",
              "      <th>50%</th>\n",
              "      <th>75%</th>\n",
              "      <th>max</th>\n",
              "    </tr>\n",
              "    <tr>\n",
              "      <th>RecencyCluster</th>\n",
              "      <th></th>\n",
              "      <th></th>\n",
              "      <th></th>\n",
              "      <th></th>\n",
              "      <th></th>\n",
              "      <th></th>\n",
              "      <th></th>\n",
              "      <th></th>\n",
              "    </tr>\n",
              "  </thead>\n",
              "  <tbody>\n",
              "    <tr>\n",
              "      <th>0</th>\n",
              "      <td>2638.0</td>\n",
              "      <td>31.322214</td>\n",
              "      <td>25.272426</td>\n",
              "      <td>0.0</td>\n",
              "      <td>10.0</td>\n",
              "      <td>24.0</td>\n",
              "      <td>50.0</td>\n",
              "      <td>92.0</td>\n",
              "    </tr>\n",
              "    <tr>\n",
              "      <th>1</th>\n",
              "      <td>558.0</td>\n",
              "      <td>292.654122</td>\n",
              "      <td>45.303609</td>\n",
              "      <td>224.0</td>\n",
              "      <td>254.0</td>\n",
              "      <td>283.0</td>\n",
              "      <td>325.0</td>\n",
              "      <td>373.0</td>\n",
              "    </tr>\n",
              "    <tr>\n",
              "      <th>2</th>\n",
              "      <td>725.0</td>\n",
              "      <td>153.960000</td>\n",
              "      <td>37.985019</td>\n",
              "      <td>93.0</td>\n",
              "      <td>120.0</td>\n",
              "      <td>154.0</td>\n",
              "      <td>185.0</td>\n",
              "      <td>222.0</td>\n",
              "    </tr>\n",
              "  </tbody>\n",
              "</table>\n",
              "</div>"
            ],
            "text/plain": [
              "                 count        mean        std  ...    50%    75%    max\n",
              "RecencyCluster                                 ...                     \n",
              "0               2638.0   31.322214  25.272426  ...   24.0   50.0   92.0\n",
              "1                558.0  292.654122  45.303609  ...  283.0  325.0  373.0\n",
              "2                725.0  153.960000  37.985019  ...  154.0  185.0  222.0\n",
              "\n",
              "[3 rows x 8 columns]"
            ]
          },
          "metadata": {
            "tags": []
          },
          "execution_count": 35
        }
      ]
    },
    {
      "cell_type": "code",
      "metadata": {
        "id": "YWtgo0Hd_WQH"
      },
      "source": [
        "def order_cluster(cluster_field_name, target_field_name,df,ascending):\n",
        "    new_cluster_field_name = 'new_' + cluster_field_name\n",
        "    df_new = df.groupby(cluster_field_name)[target_field_name].mean().reset_index()\n",
        "    df_new = df_new.sort_values(by=target_field_name,ascending=ascending).reset_index(drop=True)\n",
        "    df_new['index'] = df_new.index\n",
        "    df_final = pd.merge(df,df_new[[cluster_field_name,'index']], on=cluster_field_name)\n",
        "    df_final = df_final.drop([cluster_field_name],axis=1)\n",
        "    df_final = df_final.rename(columns={\"index\":cluster_field_name})\n",
        "    return df_final\n",
        "\n",
        "tx_user = order_cluster('RecencyCluster', 'Recency',tx_user,False)"
      ],
      "execution_count": null,
      "outputs": []
    },
    {
      "cell_type": "code",
      "metadata": {
        "colab": {
          "base_uri": "https://localhost:8080/",
          "height": 173
        },
        "id": "Hjg6tCMp_kLi",
        "outputId": "51a72624-70f3-47a7-bbe0-6608bdee48ce"
      },
      "source": [
        "tx_user.groupby('RecencyCluster')['Recency'].describe()"
      ],
      "execution_count": null,
      "outputs": [
        {
          "output_type": "execute_result",
          "data": {
            "text/html": [
              "<div>\n",
              "<style scoped>\n",
              "    .dataframe tbody tr th:only-of-type {\n",
              "        vertical-align: middle;\n",
              "    }\n",
              "\n",
              "    .dataframe tbody tr th {\n",
              "        vertical-align: top;\n",
              "    }\n",
              "\n",
              "    .dataframe thead th {\n",
              "        text-align: right;\n",
              "    }\n",
              "</style>\n",
              "<table border=\"1\" class=\"dataframe\">\n",
              "  <thead>\n",
              "    <tr style=\"text-align: right;\">\n",
              "      <th></th>\n",
              "      <th>count</th>\n",
              "      <th>mean</th>\n",
              "      <th>std</th>\n",
              "      <th>min</th>\n",
              "      <th>25%</th>\n",
              "      <th>50%</th>\n",
              "      <th>75%</th>\n",
              "      <th>max</th>\n",
              "    </tr>\n",
              "    <tr>\n",
              "      <th>RecencyCluster</th>\n",
              "      <th></th>\n",
              "      <th></th>\n",
              "      <th></th>\n",
              "      <th></th>\n",
              "      <th></th>\n",
              "      <th></th>\n",
              "      <th></th>\n",
              "      <th></th>\n",
              "    </tr>\n",
              "  </thead>\n",
              "  <tbody>\n",
              "    <tr>\n",
              "      <th>0</th>\n",
              "      <td>558.0</td>\n",
              "      <td>292.654122</td>\n",
              "      <td>45.303609</td>\n",
              "      <td>224.0</td>\n",
              "      <td>254.0</td>\n",
              "      <td>283.0</td>\n",
              "      <td>325.0</td>\n",
              "      <td>373.0</td>\n",
              "    </tr>\n",
              "    <tr>\n",
              "      <th>1</th>\n",
              "      <td>725.0</td>\n",
              "      <td>153.960000</td>\n",
              "      <td>37.985019</td>\n",
              "      <td>93.0</td>\n",
              "      <td>120.0</td>\n",
              "      <td>154.0</td>\n",
              "      <td>185.0</td>\n",
              "      <td>222.0</td>\n",
              "    </tr>\n",
              "    <tr>\n",
              "      <th>2</th>\n",
              "      <td>2638.0</td>\n",
              "      <td>31.322214</td>\n",
              "      <td>25.272426</td>\n",
              "      <td>0.0</td>\n",
              "      <td>10.0</td>\n",
              "      <td>24.0</td>\n",
              "      <td>50.0</td>\n",
              "      <td>92.0</td>\n",
              "    </tr>\n",
              "  </tbody>\n",
              "</table>\n",
              "</div>"
            ],
            "text/plain": [
              "                 count        mean        std  ...    50%    75%    max\n",
              "RecencyCluster                                 ...                     \n",
              "0                558.0  292.654122  45.303609  ...  283.0  325.0  373.0\n",
              "1                725.0  153.960000  37.985019  ...  154.0  185.0  222.0\n",
              "2               2638.0   31.322214  25.272426  ...   24.0   50.0   92.0\n",
              "\n",
              "[3 rows x 8 columns]"
            ]
          },
          "metadata": {
            "tags": []
          },
          "execution_count": 37
        }
      ]
    },
    {
      "cell_type": "markdown",
      "metadata": {
        "id": "YZj30rpp_yhX"
      },
      "source": [
        "**Frequency**"
      ]
    },
    {
      "cell_type": "code",
      "metadata": {
        "id": "QwiYi6Va_nxs"
      },
      "source": [
        "tx_frequency = tx_uk.groupby('CustomerID').InvoiceDate.count().reset_index()"
      ],
      "execution_count": null,
      "outputs": []
    },
    {
      "cell_type": "code",
      "metadata": {
        "id": "WajtbU3V_7ed"
      },
      "source": [
        "tx_frequency.columns = ['CustomerID','Frequency']"
      ],
      "execution_count": null,
      "outputs": []
    },
    {
      "cell_type": "code",
      "metadata": {
        "colab": {
          "base_uri": "https://localhost:8080/",
          "height": 204
        },
        "id": "J0-BTgVD_-kI",
        "outputId": "0833d756-ea21-498e-a67c-844734a85d8a"
      },
      "source": [
        "tx_user = pd.merge(tx_user, tx_frequency, on='CustomerID')\n",
        "tx_user.head()"
      ],
      "execution_count": null,
      "outputs": [
        {
          "output_type": "execute_result",
          "data": {
            "text/html": [
              "<div>\n",
              "<style scoped>\n",
              "    .dataframe tbody tr th:only-of-type {\n",
              "        vertical-align: middle;\n",
              "    }\n",
              "\n",
              "    .dataframe tbody tr th {\n",
              "        vertical-align: top;\n",
              "    }\n",
              "\n",
              "    .dataframe thead th {\n",
              "        text-align: right;\n",
              "    }\n",
              "</style>\n",
              "<table border=\"1\" class=\"dataframe\">\n",
              "  <thead>\n",
              "    <tr style=\"text-align: right;\">\n",
              "      <th></th>\n",
              "      <th>CustomerID</th>\n",
              "      <th>Recency</th>\n",
              "      <th>RecencyCluster</th>\n",
              "      <th>Frequency</th>\n",
              "    </tr>\n",
              "  </thead>\n",
              "  <tbody>\n",
              "    <tr>\n",
              "      <th>0</th>\n",
              "      <td>17850.0</td>\n",
              "      <td>371</td>\n",
              "      <td>0</td>\n",
              "      <td>297</td>\n",
              "    </tr>\n",
              "    <tr>\n",
              "      <th>1</th>\n",
              "      <td>15100.0</td>\n",
              "      <td>333</td>\n",
              "      <td>0</td>\n",
              "      <td>3</td>\n",
              "    </tr>\n",
              "    <tr>\n",
              "      <th>2</th>\n",
              "      <td>18074.0</td>\n",
              "      <td>373</td>\n",
              "      <td>0</td>\n",
              "      <td>13</td>\n",
              "    </tr>\n",
              "    <tr>\n",
              "      <th>3</th>\n",
              "      <td>16250.0</td>\n",
              "      <td>260</td>\n",
              "      <td>0</td>\n",
              "      <td>24</td>\n",
              "    </tr>\n",
              "    <tr>\n",
              "      <th>4</th>\n",
              "      <td>13747.0</td>\n",
              "      <td>373</td>\n",
              "      <td>0</td>\n",
              "      <td>1</td>\n",
              "    </tr>\n",
              "  </tbody>\n",
              "</table>\n",
              "</div>"
            ],
            "text/plain": [
              "  CustomerID  Recency  RecencyCluster  Frequency\n",
              "0    17850.0      371               0        297\n",
              "1    15100.0      333               0          3\n",
              "2    18074.0      373               0         13\n",
              "3    16250.0      260               0         24\n",
              "4    13747.0      373               0          1"
            ]
          },
          "metadata": {
            "tags": []
          },
          "execution_count": 40
        }
      ]
    },
    {
      "cell_type": "code",
      "metadata": {
        "colab": {
          "base_uri": "https://localhost:8080/",
          "height": 1000
        },
        "id": "Q5_xmR2RAD4b",
        "outputId": "8da636d2-09cb-4a88-c091-c09737800f59"
      },
      "source": [
        "\n",
        "sse={} # error\n",
        "tx_recency = tx_user[['Frequency']]\n",
        "for k in range(1, 10):\n",
        "    kmeans = KMeans(n_clusters=k, max_iter=1000).fit(tx_recency)\n",
        "    tx_recency[\"clusters\"] = kmeans.labels_  #cluster names corresponding to recency values \n",
        "    sse[k] = kmeans.inertia_ #sse corresponding to clusters\n",
        "plt.figure()\n",
        "plt.plot(list(sse.keys()), list(sse.values()))\n",
        "plt.xlabel(\"Number of cluster\")\n",
        "plt.show()"
      ],
      "execution_count": null,
      "outputs": [
        {
          "output_type": "stream",
          "text": [
            "/usr/local/lib/python3.6/dist-packages/ipykernel_launcher.py:6: SettingWithCopyWarning: \n",
            "A value is trying to be set on a copy of a slice from a DataFrame.\n",
            "Try using .loc[row_indexer,col_indexer] = value instead\n",
            "\n",
            "See the caveats in the documentation: https://pandas.pydata.org/pandas-docs/stable/user_guide/indexing.html#returning-a-view-versus-a-copy\n",
            "  \n",
            "/usr/local/lib/python3.6/dist-packages/ipykernel_launcher.py:6: SettingWithCopyWarning: \n",
            "A value is trying to be set on a copy of a slice from a DataFrame.\n",
            "Try using .loc[row_indexer,col_indexer] = value instead\n",
            "\n",
            "See the caveats in the documentation: https://pandas.pydata.org/pandas-docs/stable/user_guide/indexing.html#returning-a-view-versus-a-copy\n",
            "  \n",
            "/usr/local/lib/python3.6/dist-packages/ipykernel_launcher.py:6: SettingWithCopyWarning: \n",
            "A value is trying to be set on a copy of a slice from a DataFrame.\n",
            "Try using .loc[row_indexer,col_indexer] = value instead\n",
            "\n",
            "See the caveats in the documentation: https://pandas.pydata.org/pandas-docs/stable/user_guide/indexing.html#returning-a-view-versus-a-copy\n",
            "  \n",
            "/usr/local/lib/python3.6/dist-packages/ipykernel_launcher.py:6: SettingWithCopyWarning: \n",
            "A value is trying to be set on a copy of a slice from a DataFrame.\n",
            "Try using .loc[row_indexer,col_indexer] = value instead\n",
            "\n",
            "See the caveats in the documentation: https://pandas.pydata.org/pandas-docs/stable/user_guide/indexing.html#returning-a-view-versus-a-copy\n",
            "  \n",
            "/usr/local/lib/python3.6/dist-packages/ipykernel_launcher.py:6: SettingWithCopyWarning: \n",
            "A value is trying to be set on a copy of a slice from a DataFrame.\n",
            "Try using .loc[row_indexer,col_indexer] = value instead\n",
            "\n",
            "See the caveats in the documentation: https://pandas.pydata.org/pandas-docs/stable/user_guide/indexing.html#returning-a-view-versus-a-copy\n",
            "  \n",
            "/usr/local/lib/python3.6/dist-packages/ipykernel_launcher.py:6: SettingWithCopyWarning: \n",
            "A value is trying to be set on a copy of a slice from a DataFrame.\n",
            "Try using .loc[row_indexer,col_indexer] = value instead\n",
            "\n",
            "See the caveats in the documentation: https://pandas.pydata.org/pandas-docs/stable/user_guide/indexing.html#returning-a-view-versus-a-copy\n",
            "  \n",
            "/usr/local/lib/python3.6/dist-packages/ipykernel_launcher.py:6: SettingWithCopyWarning: \n",
            "A value is trying to be set on a copy of a slice from a DataFrame.\n",
            "Try using .loc[row_indexer,col_indexer] = value instead\n",
            "\n",
            "See the caveats in the documentation: https://pandas.pydata.org/pandas-docs/stable/user_guide/indexing.html#returning-a-view-versus-a-copy\n",
            "  \n",
            "/usr/local/lib/python3.6/dist-packages/ipykernel_launcher.py:6: SettingWithCopyWarning: \n",
            "A value is trying to be set on a copy of a slice from a DataFrame.\n",
            "Try using .loc[row_indexer,col_indexer] = value instead\n",
            "\n",
            "See the caveats in the documentation: https://pandas.pydata.org/pandas-docs/stable/user_guide/indexing.html#returning-a-view-versus-a-copy\n",
            "  \n",
            "/usr/local/lib/python3.6/dist-packages/ipykernel_launcher.py:6: SettingWithCopyWarning: \n",
            "A value is trying to be set on a copy of a slice from a DataFrame.\n",
            "Try using .loc[row_indexer,col_indexer] = value instead\n",
            "\n",
            "See the caveats in the documentation: https://pandas.pydata.org/pandas-docs/stable/user_guide/indexing.html#returning-a-view-versus-a-copy\n",
            "  \n"
          ],
          "name": "stderr"
        },
        {
          "output_type": "display_data",
          "data": {
            "image/png": "[encoded data removed]",
            "text/plain": [
              "<Figure size 432x288 with 1 Axes>"
            ]
          },
          "metadata": {
            "tags": [],
            "needs_background": "light"
          }
        }
      ]
    },
    {
      "cell_type": "code",
      "metadata": {
        "colab": {
          "base_uri": "https://localhost:8080/",
          "height": 204
        },
        "id": "DqigXCh9AKHa",
        "outputId": "b2b12d20-50fa-4aee-a147-fe3b5dd75b3c"
      },
      "source": [
        "kmeans=KMeans(n_clusters=4)\n",
        "tx_user['FrequencyCluster']=kmeans.fit_predict(tx_user[['Frequency']])\n",
        "\n",
        "#order the frequency cluster\n",
        "tx_user = order_cluster('FrequencyCluster', 'Frequency', tx_user, True )\n",
        "tx_user.groupby('FrequencyCluster')['Frequency'].describe()"
      ],
      "execution_count": null,
      "outputs": [
        {
          "output_type": "execute_result",
          "data": {
            "text/html": [
              "<div>\n",
              "<style scoped>\n",
              "    .dataframe tbody tr th:only-of-type {\n",
              "        vertical-align: middle;\n",
              "    }\n",
              "\n",
              "    .dataframe tbody tr th {\n",
              "        vertical-align: top;\n",
              "    }\n",
              "\n",
              "    .dataframe thead th {\n",
              "        text-align: right;\n",
              "    }\n",
              "</style>\n",
              "<table border=\"1\" class=\"dataframe\">\n",
              "  <thead>\n",
              "    <tr style=\"text-align: right;\">\n",
              "      <th></th>\n",
              "      <th>count</th>\n",
              "      <th>mean</th>\n",
              "      <th>std</th>\n",
              "      <th>min</th>\n",
              "      <th>25%</th>\n",
              "      <th>50%</th>\n",
              "      <th>75%</th>\n",
              "      <th>max</th>\n",
              "    </tr>\n",
              "    <tr>\n",
              "      <th>FrequencyCluster</th>\n",
              "      <th></th>\n",
              "      <th></th>\n",
              "      <th></th>\n",
              "      <th></th>\n",
              "      <th></th>\n",
              "      <th></th>\n",
              "      <th></th>\n",
              "      <th></th>\n",
              "    </tr>\n",
              "  </thead>\n",
              "  <tbody>\n",
              "    <tr>\n",
              "      <th>0</th>\n",
              "      <td>3468.0</td>\n",
              "      <td>48.214533</td>\n",
              "      <td>43.356567</td>\n",
              "      <td>1.0</td>\n",
              "      <td>15.0</td>\n",
              "      <td>33.0</td>\n",
              "      <td>71.0</td>\n",
              "      <td>183.0</td>\n",
              "    </tr>\n",
              "    <tr>\n",
              "      <th>1</th>\n",
              "      <td>428.0</td>\n",
              "      <td>319.754673</td>\n",
              "      <td>130.117216</td>\n",
              "      <td>184.0</td>\n",
              "      <td>218.0</td>\n",
              "      <td>277.0</td>\n",
              "      <td>384.0</td>\n",
              "      <td>785.0</td>\n",
              "    </tr>\n",
              "    <tr>\n",
              "      <th>2</th>\n",
              "      <td>22.0</td>\n",
              "      <td>1271.090909</td>\n",
              "      <td>489.487284</td>\n",
              "      <td>828.0</td>\n",
              "      <td>951.0</td>\n",
              "      <td>1100.0</td>\n",
              "      <td>1423.5</td>\n",
              "      <td>2677.0</td>\n",
              "    </tr>\n",
              "    <tr>\n",
              "      <th>3</th>\n",
              "      <td>3.0</td>\n",
              "      <td>5733.333333</td>\n",
              "      <td>1718.216032</td>\n",
              "      <td>4413.0</td>\n",
              "      <td>4762.0</td>\n",
              "      <td>5111.0</td>\n",
              "      <td>6393.5</td>\n",
              "      <td>7676.0</td>\n",
              "    </tr>\n",
              "  </tbody>\n",
              "</table>\n",
              "</div>"
            ],
            "text/plain": [
              "                   count         mean          std  ...     50%     75%     max\n",
              "FrequencyCluster                                    ...                        \n",
              "0                 3468.0    48.214533    43.356567  ...    33.0    71.0   183.0\n",
              "1                  428.0   319.754673   130.117216  ...   277.0   384.0   785.0\n",
              "2                   22.0  1271.090909   489.487284  ...  1100.0  1423.5  2677.0\n",
              "3                    3.0  5733.333333  1718.216032  ...  5111.0  6393.5  7676.0\n",
              "\n",
              "[4 rows x 8 columns]"
            ]
          },
          "metadata": {
            "tags": []
          },
          "execution_count": 42
        }
      ]
    },
    {
      "cell_type": "code",
      "metadata": {
        "id": "EI6bS0HuASqA"
      },
      "source": [
        "tx_uk['Revenue'] = tx_uk['UnitPrice'] * tx_uk['Quantity']\n",
        "tx_revenue = tx_uk.groupby('CustomerID').Revenue.sum().reset_index()"
      ],
      "execution_count": null,
      "outputs": []
    },
    {
      "cell_type": "code",
      "metadata": {
        "id": "riSSLlXpAb8s"
      },
      "source": [
        "tx_user = pd.merge(tx_user, tx_revenue, on='CustomerID')\n"
      ],
      "execution_count": null,
      "outputs": []
    },
    {
      "cell_type": "code",
      "metadata": {
        "colab": {
          "base_uri": "https://localhost:8080/",
          "height": 204
        },
        "id": "n66f6QoqAXR1",
        "outputId": "78cde18c-340d-4b78-a62d-379f911c79d0"
      },
      "source": [
        "tx_revenue.head()"
      ],
      "execution_count": null,
      "outputs": [
        {
          "output_type": "execute_result",
          "data": {
            "text/html": [
              "<div>\n",
              "<style scoped>\n",
              "    .dataframe tbody tr th:only-of-type {\n",
              "        vertical-align: middle;\n",
              "    }\n",
              "\n",
              "    .dataframe tbody tr th {\n",
              "        vertical-align: top;\n",
              "    }\n",
              "\n",
              "    .dataframe thead th {\n",
              "        text-align: right;\n",
              "    }\n",
              "</style>\n",
              "<table border=\"1\" class=\"dataframe\">\n",
              "  <thead>\n",
              "    <tr style=\"text-align: right;\">\n",
              "      <th></th>\n",
              "      <th>CustomerID</th>\n",
              "      <th>Revenue</th>\n",
              "    </tr>\n",
              "  </thead>\n",
              "  <tbody>\n",
              "    <tr>\n",
              "      <th>0</th>\n",
              "      <td>12346.0</td>\n",
              "      <td>77183.60</td>\n",
              "    </tr>\n",
              "    <tr>\n",
              "      <th>1</th>\n",
              "      <td>12747.0</td>\n",
              "      <td>4196.01</td>\n",
              "    </tr>\n",
              "    <tr>\n",
              "      <th>2</th>\n",
              "      <td>12748.0</td>\n",
              "      <td>33053.19</td>\n",
              "    </tr>\n",
              "    <tr>\n",
              "      <th>3</th>\n",
              "      <td>12749.0</td>\n",
              "      <td>4090.88</td>\n",
              "    </tr>\n",
              "    <tr>\n",
              "      <th>4</th>\n",
              "      <td>12820.0</td>\n",
              "      <td>942.34</td>\n",
              "    </tr>\n",
              "  </tbody>\n",
              "</table>\n",
              "</div>"
            ],
            "text/plain": [
              "  CustomerID   Revenue\n",
              "0    12346.0  77183.60\n",
              "1    12747.0   4196.01\n",
              "2    12748.0  33053.19\n",
              "3    12749.0   4090.88\n",
              "4    12820.0    942.34"
            ]
          },
          "metadata": {
            "tags": []
          },
          "execution_count": 45
        }
      ]
    },
    {
      "cell_type": "code",
      "metadata": {
        "colab": {
          "base_uri": "https://localhost:8080/",
          "height": 204
        },
        "id": "FUF0kozvAjzu",
        "outputId": "1176d8ae-b1c4-40f4-8eaf-14a65f46021f"
      },
      "source": [
        "tx_user.head()"
      ],
      "execution_count": null,
      "outputs": [
        {
          "output_type": "execute_result",
          "data": {
            "text/html": [
              "<div>\n",
              "<style scoped>\n",
              "    .dataframe tbody tr th:only-of-type {\n",
              "        vertical-align: middle;\n",
              "    }\n",
              "\n",
              "    .dataframe tbody tr th {\n",
              "        vertical-align: top;\n",
              "    }\n",
              "\n",
              "    .dataframe thead th {\n",
              "        text-align: right;\n",
              "    }\n",
              "</style>\n",
              "<table border=\"1\" class=\"dataframe\">\n",
              "  <thead>\n",
              "    <tr style=\"text-align: right;\">\n",
              "      <th></th>\n",
              "      <th>CustomerID</th>\n",
              "      <th>Recency</th>\n",
              "      <th>RecencyCluster</th>\n",
              "      <th>Frequency</th>\n",
              "      <th>FrequencyCluster</th>\n",
              "      <th>Revenue</th>\n",
              "    </tr>\n",
              "  </thead>\n",
              "  <tbody>\n",
              "    <tr>\n",
              "      <th>0</th>\n",
              "      <td>17850.0</td>\n",
              "      <td>371</td>\n",
              "      <td>0</td>\n",
              "      <td>297</td>\n",
              "      <td>1</td>\n",
              "      <td>5391.21</td>\n",
              "    </tr>\n",
              "    <tr>\n",
              "      <th>1</th>\n",
              "      <td>15808.0</td>\n",
              "      <td>305</td>\n",
              "      <td>0</td>\n",
              "      <td>195</td>\n",
              "      <td>1</td>\n",
              "      <td>3651.27</td>\n",
              "    </tr>\n",
              "    <tr>\n",
              "      <th>2</th>\n",
              "      <td>14688.0</td>\n",
              "      <td>7</td>\n",
              "      <td>2</td>\n",
              "      <td>324</td>\n",
              "      <td>1</td>\n",
              "      <td>5579.10</td>\n",
              "    </tr>\n",
              "    <tr>\n",
              "      <th>3</th>\n",
              "      <td>16029.0</td>\n",
              "      <td>38</td>\n",
              "      <td>2</td>\n",
              "      <td>241</td>\n",
              "      <td>1</td>\n",
              "      <td>80850.84</td>\n",
              "    </tr>\n",
              "    <tr>\n",
              "      <th>4</th>\n",
              "      <td>13408.0</td>\n",
              "      <td>1</td>\n",
              "      <td>2</td>\n",
              "      <td>478</td>\n",
              "      <td>1</td>\n",
              "      <td>28117.04</td>\n",
              "    </tr>\n",
              "  </tbody>\n",
              "</table>\n",
              "</div>"
            ],
            "text/plain": [
              "  CustomerID  Recency  RecencyCluster  Frequency  FrequencyCluster   Revenue\n",
              "0    17850.0      371               0        297                 1   5391.21\n",
              "1    15808.0      305               0        195                 1   3651.27\n",
              "2    14688.0        7               2        324                 1   5579.10\n",
              "3    16029.0       38               2        241                 1  80850.84\n",
              "4    13408.0        1               2        478                 1  28117.04"
            ]
          },
          "metadata": {
            "tags": []
          },
          "execution_count": 46
        }
      ]
    },
    {
      "cell_type": "code",
      "metadata": {
        "colab": {
          "base_uri": "https://localhost:8080/",
          "height": 1000
        },
        "id": "KJN4iXdaAsJ1",
        "outputId": "73834400-9bda-4fa9-fc71-466275f35f3e"
      },
      "source": [
        "\n",
        "sse={} # error\n",
        "tx_recency = tx_user[['Revenue']]\n",
        "for k in range(1, 10):\n",
        "    kmeans = KMeans(n_clusters=k, max_iter=1000).fit(tx_recency)\n",
        "    tx_recency[\"clusters\"] = kmeans.labels_  #cluster names corresponding to recency values \n",
        "    sse[k] = kmeans.inertia_ #sse corresponding to clusters\n",
        "plt.figure()\n",
        "plt.plot(list(sse.keys()), list(sse.values()))\n",
        "plt.xlabel(\"Number of cluster\")\n",
        "plt.show()\n"
      ],
      "execution_count": null,
      "outputs": [
        {
          "output_type": "stream",
          "text": [
            "/usr/local/lib/python3.6/dist-packages/ipykernel_launcher.py:6: SettingWithCopyWarning: \n",
            "A value is trying to be set on a copy of a slice from a DataFrame.\n",
            "Try using .loc[row_indexer,col_indexer] = value instead\n",
            "\n",
            "See the caveats in the documentation: https://pandas.pydata.org/pandas-docs/stable/user_guide/indexing.html#returning-a-view-versus-a-copy\n",
            "  \n",
            "/usr/local/lib/python3.6/dist-packages/ipykernel_launcher.py:6: SettingWithCopyWarning: \n",
            "A value is trying to be set on a copy of a slice from a DataFrame.\n",
            "Try using .loc[row_indexer,col_indexer] = value instead\n",
            "\n",
            "See the caveats in the documentation: https://pandas.pydata.org/pandas-docs/stable/user_guide/indexing.html#returning-a-view-versus-a-copy\n",
            "  \n",
            "/usr/local/lib/python3.6/dist-packages/ipykernel_launcher.py:6: SettingWithCopyWarning: \n",
            "A value is trying to be set on a copy of a slice from a DataFrame.\n",
            "Try using .loc[row_indexer,col_indexer] = value instead\n",
            "\n",
            "See the caveats in the documentation: https://pandas.pydata.org/pandas-docs/stable/user_guide/indexing.html#returning-a-view-versus-a-copy\n",
            "  \n",
            "/usr/local/lib/python3.6/dist-packages/ipykernel_launcher.py:6: SettingWithCopyWarning: \n",
            "A value is trying to be set on a copy of a slice from a DataFrame.\n",
            "Try using .loc[row_indexer,col_indexer] = value instead\n",
            "\n",
            "See the caveats in the documentation: https://pandas.pydata.org/pandas-docs/stable/user_guide/indexing.html#returning-a-view-versus-a-copy\n",
            "  \n",
            "/usr/local/lib/python3.6/dist-packages/ipykernel_launcher.py:6: SettingWithCopyWarning: \n",
            "A value is trying to be set on a copy of a slice from a DataFrame.\n",
            "Try using .loc[row_indexer,col_indexer] = value instead\n",
            "\n",
            "See the caveats in the documentation: https://pandas.pydata.org/pandas-docs/stable/user_guide/indexing.html#returning-a-view-versus-a-copy\n",
            "  \n",
            "/usr/local/lib/python3.6/dist-packages/ipykernel_launcher.py:6: SettingWithCopyWarning: \n",
            "A value is trying to be set on a copy of a slice from a DataFrame.\n",
            "Try using .loc[row_indexer,col_indexer] = value instead\n",
            "\n",
            "See the caveats in the documentation: https://pandas.pydata.org/pandas-docs/stable/user_guide/indexing.html#returning-a-view-versus-a-copy\n",
            "  \n",
            "/usr/local/lib/python3.6/dist-packages/ipykernel_launcher.py:6: SettingWithCopyWarning: \n",
            "A value is trying to be set on a copy of a slice from a DataFrame.\n",
            "Try using .loc[row_indexer,col_indexer] = value instead\n",
            "\n",
            "See the caveats in the documentation: https://pandas.pydata.org/pandas-docs/stable/user_guide/indexing.html#returning-a-view-versus-a-copy\n",
            "  \n",
            "/usr/local/lib/python3.6/dist-packages/ipykernel_launcher.py:6: SettingWithCopyWarning: \n",
            "A value is trying to be set on a copy of a slice from a DataFrame.\n",
            "Try using .loc[row_indexer,col_indexer] = value instead\n",
            "\n",
            "See the caveats in the documentation: https://pandas.pydata.org/pandas-docs/stable/user_guide/indexing.html#returning-a-view-versus-a-copy\n",
            "  \n",
            "/usr/local/lib/python3.6/dist-packages/ipykernel_launcher.py:6: SettingWithCopyWarning: \n",
            "A value is trying to be set on a copy of a slice from a DataFrame.\n",
            "Try using .loc[row_indexer,col_indexer] = value instead\n",
            "\n",
            "See the caveats in the documentation: https://pandas.pydata.org/pandas-docs/stable/user_guide/indexing.html#returning-a-view-versus-a-copy\n",
            "  \n"
          ],
          "name": "stderr"
        },
        {
          "output_type": "display_data",
          "data": {
            "image/png": "[encoded data removed]",
            "text/plain": [
              "<Figure size 432x288 with 1 Axes>"
            ]
          },
          "metadata": {
            "tags": [],
            "needs_background": "light"
          }
        }
      ]
    },
    {
      "cell_type": "code",
      "metadata": {
        "colab": {
          "base_uri": "https://localhost:8080/",
          "height": 173
        },
        "id": "5amugbcYAyGk",
        "outputId": "47d3f8ae-dc75-4c9a-f6f4-85b6ce56b8c3"
      },
      "source": [
        "kmeans = KMeans(n_clusters=3)\n",
        "tx_user['RevenueCluster'] = kmeans.fit_predict(tx_user[['Revenue']])\n",
        "\n",
        "#order the cluster numbers\n",
        "tx_user = order_cluster('RevenueCluster', 'Revenue',tx_user,True)\n",
        "\n",
        "#show details of the dataframe\n",
        "tx_user.groupby('RevenueCluster')['Revenue'].describe()"
      ],
      "execution_count": null,
      "outputs": [
        {
          "output_type": "execute_result",
          "data": {
            "text/html": [
              "<div>\n",
              "<style scoped>\n",
              "    .dataframe tbody tr th:only-of-type {\n",
              "        vertical-align: middle;\n",
              "    }\n",
              "\n",
              "    .dataframe tbody tr th {\n",
              "        vertical-align: top;\n",
              "    }\n",
              "\n",
              "    .dataframe thead th {\n",
              "        text-align: right;\n",
              "    }\n",
              "</style>\n",
              "<table border=\"1\" class=\"dataframe\">\n",
              "  <thead>\n",
              "    <tr style=\"text-align: right;\">\n",
              "      <th></th>\n",
              "      <th>count</th>\n",
              "      <th>mean</th>\n",
              "      <th>std</th>\n",
              "      <th>min</th>\n",
              "      <th>25%</th>\n",
              "      <th>50%</th>\n",
              "      <th>75%</th>\n",
              "      <th>max</th>\n",
              "    </tr>\n",
              "    <tr>\n",
              "      <th>RevenueCluster</th>\n",
              "      <th></th>\n",
              "      <th></th>\n",
              "      <th></th>\n",
              "      <th></th>\n",
              "      <th></th>\n",
              "      <th></th>\n",
              "      <th></th>\n",
              "      <th></th>\n",
              "    </tr>\n",
              "  </thead>\n",
              "  <tbody>\n",
              "    <tr>\n",
              "      <th>0</th>\n",
              "      <td>3888.0</td>\n",
              "      <td>1352.299026</td>\n",
              "      <td>2083.663313</td>\n",
              "      <td>0.00</td>\n",
              "      <td>294.9625</td>\n",
              "      <td>637.775</td>\n",
              "      <td>1532.715</td>\n",
              "      <td>21086.30</td>\n",
              "    </tr>\n",
              "    <tr>\n",
              "      <th>1</th>\n",
              "      <td>30.0</td>\n",
              "      <td>46825.514667</td>\n",
              "      <td>17975.526858</td>\n",
              "      <td>25977.16</td>\n",
              "      <td>32138.5575</td>\n",
              "      <td>41287.900</td>\n",
              "      <td>58699.180</td>\n",
              "      <td>91062.38</td>\n",
              "    </tr>\n",
              "    <tr>\n",
              "      <th>2</th>\n",
              "      <td>3.0</td>\n",
              "      <td>207506.863333</td>\n",
              "      <td>46986.066791</td>\n",
              "      <td>168472.50</td>\n",
              "      <td>181431.6450</td>\n",
              "      <td>194390.790</td>\n",
              "      <td>227024.045</td>\n",
              "      <td>259657.30</td>\n",
              "    </tr>\n",
              "  </tbody>\n",
              "</table>\n",
              "</div>"
            ],
            "text/plain": [
              "                 count           mean  ...         75%        max\n",
              "RevenueCluster                         ...                       \n",
              "0               3888.0    1352.299026  ...    1532.715   21086.30\n",
              "1                 30.0   46825.514667  ...   58699.180   91062.38\n",
              "2                  3.0  207506.863333  ...  227024.045  259657.30\n",
              "\n",
              "[3 rows x 8 columns]"
            ]
          },
          "metadata": {
            "tags": []
          },
          "execution_count": 48
        }
      ]
    },
    {
      "cell_type": "code",
      "metadata": {
        "colab": {
          "base_uri": "https://localhost:8080/",
          "height": 351
        },
        "id": "kXM8FRCPA6sL",
        "outputId": "4ba914fb-784a-42a9-ee4a-e4abd4f9e936"
      },
      "source": [
        "tx_user['OverallScore'] = tx_user['RecencyCluster'] + tx_user['FrequencyCluster'] + tx_user['RevenueCluster']\n",
        "tx_user.groupby('OverallScore')['Recency','Frequency','Revenue'].mean()"
      ],
      "execution_count": null,
      "outputs": [
        {
          "output_type": "stream",
          "text": [
            "/usr/local/lib/python3.6/dist-packages/ipykernel_launcher.py:2: FutureWarning: Indexing with multiple keys (implicitly converted to a tuple of keys) will be deprecated, use a list instead.\n",
            "  \n"
          ],
          "name": "stderr"
        },
        {
          "output_type": "execute_result",
          "data": {
            "text/html": [
              "<div>\n",
              "<style scoped>\n",
              "    .dataframe tbody tr th:only-of-type {\n",
              "        vertical-align: middle;\n",
              "    }\n",
              "\n",
              "    .dataframe tbody tr th {\n",
              "        vertical-align: top;\n",
              "    }\n",
              "\n",
              "    .dataframe thead th {\n",
              "        text-align: right;\n",
              "    }\n",
              "</style>\n",
              "<table border=\"1\" class=\"dataframe\">\n",
              "  <thead>\n",
              "    <tr style=\"text-align: right;\">\n",
              "      <th></th>\n",
              "      <th>Recency</th>\n",
              "      <th>Frequency</th>\n",
              "      <th>Revenue</th>\n",
              "    </tr>\n",
              "    <tr>\n",
              "      <th>OverallScore</th>\n",
              "      <th></th>\n",
              "      <th></th>\n",
              "      <th></th>\n",
              "    </tr>\n",
              "  </thead>\n",
              "  <tbody>\n",
              "    <tr>\n",
              "      <th>0</th>\n",
              "      <td>292.537906</td>\n",
              "      <td>22.498195</td>\n",
              "      <td>366.528863</td>\n",
              "    </tr>\n",
              "    <tr>\n",
              "      <th>1</th>\n",
              "      <td>155.138462</td>\n",
              "      <td>36.402797</td>\n",
              "      <td>853.384337</td>\n",
              "    </tr>\n",
              "    <tr>\n",
              "      <th>2</th>\n",
              "      <td>35.110154</td>\n",
              "      <td>59.834089</td>\n",
              "      <td>1229.563084</td>\n",
              "    </tr>\n",
              "    <tr>\n",
              "      <th>3</th>\n",
              "      <td>16.876847</td>\n",
              "      <td>315.992611</td>\n",
              "      <td>5039.343202</td>\n",
              "    </tr>\n",
              "    <tr>\n",
              "      <th>4</th>\n",
              "      <td>7.400000</td>\n",
              "      <td>822.433333</td>\n",
              "      <td>27676.685000</td>\n",
              "    </tr>\n",
              "    <tr>\n",
              "      <th>5</th>\n",
              "      <td>4.142857</td>\n",
              "      <td>1225.000000</td>\n",
              "      <td>106338.568571</td>\n",
              "    </tr>\n",
              "    <tr>\n",
              "      <th>6</th>\n",
              "      <td>1.333333</td>\n",
              "      <td>5733.333333</td>\n",
              "      <td>46245.940000</td>\n",
              "    </tr>\n",
              "  </tbody>\n",
              "</table>\n",
              "</div>"
            ],
            "text/plain": [
              "                 Recency    Frequency        Revenue\n",
              "OverallScore                                        \n",
              "0             292.537906    22.498195     366.528863\n",
              "1             155.138462    36.402797     853.384337\n",
              "2              35.110154    59.834089    1229.563084\n",
              "3              16.876847   315.992611    5039.343202\n",
              "4               7.400000   822.433333   27676.685000\n",
              "5               4.142857  1225.000000  106338.568571\n",
              "6               1.333333  5733.333333   46245.940000"
            ]
          },
          "metadata": {
            "tags": []
          },
          "execution_count": 49
        }
      ]
    },
    {
      "cell_type": "code",
      "metadata": {
        "id": "ZID73GA-A_x1"
      },
      "source": [
        "tx_user['Segment'] = 'Bronze'\n",
        "tx_user.loc[tx_user['OverallScore']>2,'Segment'] = 'Silver' \n",
        "tx_user.loc[tx_user['OverallScore']>4,'Segment'] = 'Gold' "
      ],
      "execution_count": null,
      "outputs": []
    },
    {
      "cell_type": "code",
      "metadata": {
        "colab": {
          "base_uri": "https://localhost:8080/",
          "height": 224
        },
        "id": "zLezSY3CBRH8",
        "outputId": "35ad2b94-6930-4416-cdeb-8f8cd16fb3df"
      },
      "source": [
        "tx_user.head()"
      ],
      "execution_count": null,
      "outputs": [
        {
          "output_type": "execute_result",
          "data": {
            "text/html": [
              "<div>\n",
              "<style scoped>\n",
              "    .dataframe tbody tr th:only-of-type {\n",
              "        vertical-align: middle;\n",
              "    }\n",
              "\n",
              "    .dataframe tbody tr th {\n",
              "        vertical-align: top;\n",
              "    }\n",
              "\n",
              "    .dataframe thead th {\n",
              "        text-align: right;\n",
              "    }\n",
              "</style>\n",
              "<table border=\"1\" class=\"dataframe\">\n",
              "  <thead>\n",
              "    <tr style=\"text-align: right;\">\n",
              "      <th></th>\n",
              "      <th>CustomerID</th>\n",
              "      <th>Recency</th>\n",
              "      <th>RecencyCluster</th>\n",
              "      <th>Frequency</th>\n",
              "      <th>FrequencyCluster</th>\n",
              "      <th>Revenue</th>\n",
              "      <th>RevenueCluster</th>\n",
              "      <th>OverallScore</th>\n",
              "      <th>Segment</th>\n",
              "    </tr>\n",
              "  </thead>\n",
              "  <tbody>\n",
              "    <tr>\n",
              "      <th>0</th>\n",
              "      <td>17850.0</td>\n",
              "      <td>371</td>\n",
              "      <td>0</td>\n",
              "      <td>297</td>\n",
              "      <td>1</td>\n",
              "      <td>5391.21</td>\n",
              "      <td>0</td>\n",
              "      <td>1</td>\n",
              "      <td>Bronze</td>\n",
              "    </tr>\n",
              "    <tr>\n",
              "      <th>1</th>\n",
              "      <td>15808.0</td>\n",
              "      <td>305</td>\n",
              "      <td>0</td>\n",
              "      <td>195</td>\n",
              "      <td>1</td>\n",
              "      <td>3651.27</td>\n",
              "      <td>0</td>\n",
              "      <td>1</td>\n",
              "      <td>Bronze</td>\n",
              "    </tr>\n",
              "    <tr>\n",
              "      <th>2</th>\n",
              "      <td>14688.0</td>\n",
              "      <td>7</td>\n",
              "      <td>2</td>\n",
              "      <td>324</td>\n",
              "      <td>1</td>\n",
              "      <td>5579.10</td>\n",
              "      <td>0</td>\n",
              "      <td>3</td>\n",
              "      <td>Silver</td>\n",
              "    </tr>\n",
              "    <tr>\n",
              "      <th>3</th>\n",
              "      <td>13767.0</td>\n",
              "      <td>1</td>\n",
              "      <td>2</td>\n",
              "      <td>368</td>\n",
              "      <td>1</td>\n",
              "      <td>17220.36</td>\n",
              "      <td>0</td>\n",
              "      <td>3</td>\n",
              "      <td>Silver</td>\n",
              "    </tr>\n",
              "    <tr>\n",
              "      <th>4</th>\n",
              "      <td>13448.0</td>\n",
              "      <td>16</td>\n",
              "      <td>2</td>\n",
              "      <td>194</td>\n",
              "      <td>1</td>\n",
              "      <td>3534.69</td>\n",
              "      <td>0</td>\n",
              "      <td>3</td>\n",
              "      <td>Silver</td>\n",
              "    </tr>\n",
              "  </tbody>\n",
              "</table>\n",
              "</div>"
            ],
            "text/plain": [
              "  CustomerID  Recency  RecencyCluster  ...  RevenueCluster  OverallScore  Segment\n",
              "0    17850.0      371               0  ...               0             1   Bronze\n",
              "1    15808.0      305               0  ...               0             1   Bronze\n",
              "2    14688.0        7               2  ...               0             3   Silver\n",
              "3    13767.0        1               2  ...               0             3   Silver\n",
              "4    13448.0       16               2  ...               0             3   Silver\n",
              "\n",
              "[5 rows x 9 columns]"
            ]
          },
          "metadata": {
            "tags": []
          },
          "execution_count": 51
        }
      ]
    },
    {
      "cell_type": "code",
      "metadata": {
        "id": "F-TT0bC-BUra"
      },
      "source": [
        "from datetime import date, datetime,timedelta\n",
        "tx_6m1 = tx_uk[(tx_uk.InvoiceDate < datetime(2011,6,1)) & (tx_uk.InvoiceDate >= datetime(2011,1,1))].reset_index(drop=True) #6 months time\n",
        "tx_6m2 = tx_uk[(tx_uk.InvoiceDate >= datetime(2011,6,1)) & (tx_uk.InvoiceDate < datetime(2011,12,1))].reset_index(drop=True)"
      ],
      "execution_count": null,
      "outputs": []
    },
    {
      "cell_type": "code",
      "metadata": {
        "id": "bDUyHArDB3BU"
      },
      "source": [
        "tx_6m2['Revenue'] = tx_6m2['UnitPrice'] * tx_6m2['Quantity']\n",
        "tx_user_6m = tx_6m2.groupby('CustomerID')['Revenue'].sum().reset_index()\n",
        "tx_user_6m.columns = ['CustomerID','m6_Revenue']"
      ],
      "execution_count": null,
      "outputs": []
    },
    {
      "cell_type": "code",
      "metadata": {
        "colab": {
          "base_uri": "https://localhost:8080/",
          "height": 204
        },
        "id": "7F4lu2TjCnI6",
        "outputId": "d525efe2-9e34-4829-aeba-b8fcb8b8ab7c"
      },
      "source": [
        "tx_user_6m.head()"
      ],
      "execution_count": null,
      "outputs": [
        {
          "output_type": "execute_result",
          "data": {
            "text/html": [
              "<div>\n",
              "<style scoped>\n",
              "    .dataframe tbody tr th:only-of-type {\n",
              "        vertical-align: middle;\n",
              "    }\n",
              "\n",
              "    .dataframe tbody tr th {\n",
              "        vertical-align: top;\n",
              "    }\n",
              "\n",
              "    .dataframe thead th {\n",
              "        text-align: right;\n",
              "    }\n",
              "</style>\n",
              "<table border=\"1\" class=\"dataframe\">\n",
              "  <thead>\n",
              "    <tr style=\"text-align: right;\">\n",
              "      <th></th>\n",
              "      <th>CustomerID</th>\n",
              "      <th>m6_Revenue</th>\n",
              "    </tr>\n",
              "  </thead>\n",
              "  <tbody>\n",
              "    <tr>\n",
              "      <th>0</th>\n",
              "      <td>12747.0</td>\n",
              "      <td>1666.11</td>\n",
              "    </tr>\n",
              "    <tr>\n",
              "      <th>1</th>\n",
              "      <td>12748.0</td>\n",
              "      <td>22616.37</td>\n",
              "    </tr>\n",
              "    <tr>\n",
              "      <th>2</th>\n",
              "      <td>12749.0</td>\n",
              "      <td>2468.72</td>\n",
              "    </tr>\n",
              "    <tr>\n",
              "      <th>3</th>\n",
              "      <td>12820.0</td>\n",
              "      <td>561.53</td>\n",
              "    </tr>\n",
              "    <tr>\n",
              "      <th>4</th>\n",
              "      <td>12822.0</td>\n",
              "      <td>948.88</td>\n",
              "    </tr>\n",
              "  </tbody>\n",
              "</table>\n",
              "</div>"
            ],
            "text/plain": [
              "  CustomerID  m6_Revenue\n",
              "0    12747.0     1666.11\n",
              "1    12748.0    22616.37\n",
              "2    12749.0     2468.72\n",
              "3    12820.0      561.53\n",
              "4    12822.0      948.88"
            ]
          },
          "metadata": {
            "tags": []
          },
          "execution_count": 54
        }
      ]
    },
    {
      "cell_type": "code",
      "metadata": {
        "id": "7W1we7XdCq-H"
      },
      "source": [
        "tx_merge = pd.merge(tx_user, tx_user_6m, on='CustomerID', how='left')"
      ],
      "execution_count": null,
      "outputs": []
    },
    {
      "cell_type": "code",
      "metadata": {
        "id": "sc3iD_8VC1uH"
      },
      "source": [
        "tx_merge = tx_merge[tx_merge['m6_Revenue']<tx_merge['m6_Revenue'].quantile(0.99)]"
      ],
      "execution_count": null,
      "outputs": []
    },
    {
      "cell_type": "code",
      "metadata": {
        "id": "S2wYS57kC7cm"
      },
      "source": [
        "kmeans = KMeans(n_clusters=3)\n",
        "tx_merge['LTVCluster'] = kmeans.fit_predict(tx_merge[['m6_Revenue']])"
      ],
      "execution_count": null,
      "outputs": []
    },
    {
      "cell_type": "code",
      "metadata": {
        "colab": {
          "base_uri": "https://localhost:8080/",
          "height": 224
        },
        "id": "6w8f9iFPC_bs",
        "outputId": "005b1389-2569-4f95-c769-44ef72ff228a"
      },
      "source": [
        "tx_merge.head()"
      ],
      "execution_count": null,
      "outputs": [
        {
          "output_type": "execute_result",
          "data": {
            "text/html": [
              "<div>\n",
              "<style scoped>\n",
              "    .dataframe tbody tr th:only-of-type {\n",
              "        vertical-align: middle;\n",
              "    }\n",
              "\n",
              "    .dataframe tbody tr th {\n",
              "        vertical-align: top;\n",
              "    }\n",
              "\n",
              "    .dataframe thead th {\n",
              "        text-align: right;\n",
              "    }\n",
              "</style>\n",
              "<table border=\"1\" class=\"dataframe\">\n",
              "  <thead>\n",
              "    <tr style=\"text-align: right;\">\n",
              "      <th></th>\n",
              "      <th>CustomerID</th>\n",
              "      <th>Recency</th>\n",
              "      <th>RecencyCluster</th>\n",
              "      <th>Frequency</th>\n",
              "      <th>FrequencyCluster</th>\n",
              "      <th>Revenue</th>\n",
              "      <th>RevenueCluster</th>\n",
              "      <th>OverallScore</th>\n",
              "      <th>Segment</th>\n",
              "      <th>m6_Revenue</th>\n",
              "      <th>LTVCluster</th>\n",
              "    </tr>\n",
              "  </thead>\n",
              "  <tbody>\n",
              "    <tr>\n",
              "      <th>2</th>\n",
              "      <td>14688.0</td>\n",
              "      <td>7</td>\n",
              "      <td>2</td>\n",
              "      <td>324</td>\n",
              "      <td>1</td>\n",
              "      <td>5579.10</td>\n",
              "      <td>0</td>\n",
              "      <td>3</td>\n",
              "      <td>Silver</td>\n",
              "      <td>2163.40</td>\n",
              "      <td>2</td>\n",
              "    </tr>\n",
              "    <tr>\n",
              "      <th>3</th>\n",
              "      <td>13767.0</td>\n",
              "      <td>1</td>\n",
              "      <td>2</td>\n",
              "      <td>368</td>\n",
              "      <td>1</td>\n",
              "      <td>17220.36</td>\n",
              "      <td>0</td>\n",
              "      <td>3</td>\n",
              "      <td>Silver</td>\n",
              "      <td>9093.09</td>\n",
              "      <td>1</td>\n",
              "    </tr>\n",
              "    <tr>\n",
              "      <th>4</th>\n",
              "      <td>13448.0</td>\n",
              "      <td>16</td>\n",
              "      <td>2</td>\n",
              "      <td>194</td>\n",
              "      <td>1</td>\n",
              "      <td>3534.69</td>\n",
              "      <td>0</td>\n",
              "      <td>3</td>\n",
              "      <td>Silver</td>\n",
              "      <td>2111.43</td>\n",
              "      <td>2</td>\n",
              "    </tr>\n",
              "    <tr>\n",
              "      <th>5</th>\n",
              "      <td>15513.0</td>\n",
              "      <td>32</td>\n",
              "      <td>2</td>\n",
              "      <td>308</td>\n",
              "      <td>1</td>\n",
              "      <td>14758.22</td>\n",
              "      <td>0</td>\n",
              "      <td>3</td>\n",
              "      <td>Silver</td>\n",
              "      <td>8688.76</td>\n",
              "      <td>1</td>\n",
              "    </tr>\n",
              "    <tr>\n",
              "      <th>6</th>\n",
              "      <td>17920.0</td>\n",
              "      <td>3</td>\n",
              "      <td>2</td>\n",
              "      <td>665</td>\n",
              "      <td>1</td>\n",
              "      <td>4119.50</td>\n",
              "      <td>0</td>\n",
              "      <td>3</td>\n",
              "      <td>Silver</td>\n",
              "      <td>2115.79</td>\n",
              "      <td>2</td>\n",
              "    </tr>\n",
              "  </tbody>\n",
              "</table>\n",
              "</div>"
            ],
            "text/plain": [
              "  CustomerID  Recency  RecencyCluster  ...  Segment  m6_Revenue  LTVCluster\n",
              "2    14688.0        7               2  ...   Silver     2163.40           2\n",
              "3    13767.0        1               2  ...   Silver     9093.09           1\n",
              "4    13448.0       16               2  ...   Silver     2111.43           2\n",
              "5    15513.0       32               2  ...   Silver     8688.76           1\n",
              "6    17920.0        3               2  ...   Silver     2115.79           2\n",
              "\n",
              "[5 rows x 11 columns]"
            ]
          },
          "metadata": {
            "tags": []
          },
          "execution_count": 58
        }
      ]
    },
    {
      "cell_type": "code",
      "metadata": {
        "colab": {
          "base_uri": "https://localhost:8080/",
          "height": 173
        },
        "id": "xgd7CquNDDfo",
        "outputId": "e73a3926-42c0-4ef0-dc6f-56d0f737fb6b"
      },
      "source": [
        "tx_merge = order_cluster('LTVCluster', 'm6_Revenue',tx_merge,True)\n",
        "\n",
        "#creatinga new cluster dataframe\n",
        "tx_cluster = tx_merge.copy()\n",
        "\n",
        "#see details of the clusters\n",
        "tx_cluster.groupby('LTVCluster')['m6_Revenue'].describe()"
      ],
      "execution_count": null,
      "outputs": [
        {
          "output_type": "execute_result",
          "data": {
            "text/html": [
              "<div>\n",
              "<style scoped>\n",
              "    .dataframe tbody tr th:only-of-type {\n",
              "        vertical-align: middle;\n",
              "    }\n",
              "\n",
              "    .dataframe tbody tr th {\n",
              "        vertical-align: top;\n",
              "    }\n",
              "\n",
              "    .dataframe thead th {\n",
              "        text-align: right;\n",
              "    }\n",
              "</style>\n",
              "<table border=\"1\" class=\"dataframe\">\n",
              "  <thead>\n",
              "    <tr style=\"text-align: right;\">\n",
              "      <th></th>\n",
              "      <th>count</th>\n",
              "      <th>mean</th>\n",
              "      <th>std</th>\n",
              "      <th>min</th>\n",
              "      <th>25%</th>\n",
              "      <th>50%</th>\n",
              "      <th>75%</th>\n",
              "      <th>max</th>\n",
              "    </tr>\n",
              "    <tr>\n",
              "      <th>LTVCluster</th>\n",
              "      <th></th>\n",
              "      <th></th>\n",
              "      <th></th>\n",
              "      <th></th>\n",
              "      <th></th>\n",
              "      <th></th>\n",
              "      <th></th>\n",
              "      <th></th>\n",
              "    </tr>\n",
              "  </thead>\n",
              "  <tbody>\n",
              "    <tr>\n",
              "      <th>0</th>\n",
              "      <td>2522.0</td>\n",
              "      <td>506.062947</td>\n",
              "      <td>355.158090</td>\n",
              "      <td>0.00</td>\n",
              "      <td>219.665</td>\n",
              "      <td>397.25</td>\n",
              "      <td>738.895</td>\n",
              "      <td>1434.37</td>\n",
              "    </tr>\n",
              "    <tr>\n",
              "      <th>1</th>\n",
              "      <td>519.0</td>\n",
              "      <td>2368.044624</td>\n",
              "      <td>818.740458</td>\n",
              "      <td>1445.00</td>\n",
              "      <td>1710.760</td>\n",
              "      <td>2074.16</td>\n",
              "      <td>2887.305</td>\n",
              "      <td>4575.92</td>\n",
              "    </tr>\n",
              "    <tr>\n",
              "      <th>2</th>\n",
              "      <td>69.0</td>\n",
              "      <td>6878.172319</td>\n",
              "      <td>1819.328956</td>\n",
              "      <td>4745.69</td>\n",
              "      <td>5517.630</td>\n",
              "      <td>6379.09</td>\n",
              "      <td>7508.750</td>\n",
              "      <td>11992.40</td>\n",
              "    </tr>\n",
              "  </tbody>\n",
              "</table>\n",
              "</div>"
            ],
            "text/plain": [
              "             count         mean          std  ...      50%       75%       max\n",
              "LTVCluster                                    ...                             \n",
              "0           2522.0   506.062947   355.158090  ...   397.25   738.895   1434.37\n",
              "1            519.0  2368.044624   818.740458  ...  2074.16  2887.305   4575.92\n",
              "2             69.0  6878.172319  1819.328956  ...  6379.09  7508.750  11992.40\n",
              "\n",
              "[3 rows x 8 columns]"
            ]
          },
          "metadata": {
            "tags": []
          },
          "execution_count": 59
        }
      ]
    },
    {
      "cell_type": "code",
      "metadata": {
        "colab": {
          "base_uri": "https://localhost:8080/",
          "height": 224
        },
        "id": "5bgh52H0DIVS",
        "outputId": "e598f283-741e-47b4-d796-2236a6da9b5a"
      },
      "source": [
        "tx_cluster.head()"
      ],
      "execution_count": null,
      "outputs": [
        {
          "output_type": "execute_result",
          "data": {
            "text/html": [
              "<div>\n",
              "<style scoped>\n",
              "    .dataframe tbody tr th:only-of-type {\n",
              "        vertical-align: middle;\n",
              "    }\n",
              "\n",
              "    .dataframe tbody tr th {\n",
              "        vertical-align: top;\n",
              "    }\n",
              "\n",
              "    .dataframe thead th {\n",
              "        text-align: right;\n",
              "    }\n",
              "</style>\n",
              "<table border=\"1\" class=\"dataframe\">\n",
              "  <thead>\n",
              "    <tr style=\"text-align: right;\">\n",
              "      <th></th>\n",
              "      <th>CustomerID</th>\n",
              "      <th>Recency</th>\n",
              "      <th>RecencyCluster</th>\n",
              "      <th>Frequency</th>\n",
              "      <th>FrequencyCluster</th>\n",
              "      <th>Revenue</th>\n",
              "      <th>RevenueCluster</th>\n",
              "      <th>OverallScore</th>\n",
              "      <th>Segment</th>\n",
              "      <th>m6_Revenue</th>\n",
              "      <th>LTVCluster</th>\n",
              "    </tr>\n",
              "  </thead>\n",
              "  <tbody>\n",
              "    <tr>\n",
              "      <th>0</th>\n",
              "      <td>14688.0</td>\n",
              "      <td>7</td>\n",
              "      <td>2</td>\n",
              "      <td>324</td>\n",
              "      <td>1</td>\n",
              "      <td>5579.10</td>\n",
              "      <td>0</td>\n",
              "      <td>3</td>\n",
              "      <td>Silver</td>\n",
              "      <td>2163.40</td>\n",
              "      <td>1</td>\n",
              "    </tr>\n",
              "    <tr>\n",
              "      <th>1</th>\n",
              "      <td>13448.0</td>\n",
              "      <td>16</td>\n",
              "      <td>2</td>\n",
              "      <td>194</td>\n",
              "      <td>1</td>\n",
              "      <td>3534.69</td>\n",
              "      <td>0</td>\n",
              "      <td>3</td>\n",
              "      <td>Silver</td>\n",
              "      <td>2111.43</td>\n",
              "      <td>1</td>\n",
              "    </tr>\n",
              "    <tr>\n",
              "      <th>2</th>\n",
              "      <td>17920.0</td>\n",
              "      <td>3</td>\n",
              "      <td>2</td>\n",
              "      <td>665</td>\n",
              "      <td>1</td>\n",
              "      <td>4119.50</td>\n",
              "      <td>0</td>\n",
              "      <td>3</td>\n",
              "      <td>Silver</td>\n",
              "      <td>2115.79</td>\n",
              "      <td>1</td>\n",
              "    </tr>\n",
              "    <tr>\n",
              "      <th>3</th>\n",
              "      <td>17377.0</td>\n",
              "      <td>23</td>\n",
              "      <td>2</td>\n",
              "      <td>404</td>\n",
              "      <td>1</td>\n",
              "      <td>4058.32</td>\n",
              "      <td>0</td>\n",
              "      <td>3</td>\n",
              "      <td>Silver</td>\n",
              "      <td>2460.70</td>\n",
              "      <td>1</td>\n",
              "    </tr>\n",
              "    <tr>\n",
              "      <th>4</th>\n",
              "      <td>17346.0</td>\n",
              "      <td>3</td>\n",
              "      <td>2</td>\n",
              "      <td>483</td>\n",
              "      <td>1</td>\n",
              "      <td>2622.88</td>\n",
              "      <td>0</td>\n",
              "      <td>3</td>\n",
              "      <td>Silver</td>\n",
              "      <td>1702.10</td>\n",
              "      <td>1</td>\n",
              "    </tr>\n",
              "  </tbody>\n",
              "</table>\n",
              "</div>"
            ],
            "text/plain": [
              "  CustomerID  Recency  RecencyCluster  ...  Segment  m6_Revenue  LTVCluster\n",
              "0    14688.0        7               2  ...   Silver     2163.40           1\n",
              "1    13448.0       16               2  ...   Silver     2111.43           1\n",
              "2    17920.0        3               2  ...   Silver     2115.79           1\n",
              "3    17377.0       23               2  ...   Silver     2460.70           1\n",
              "4    17346.0        3               2  ...   Silver     1702.10           1\n",
              "\n",
              "[5 rows x 11 columns]"
            ]
          },
          "metadata": {
            "tags": []
          },
          "execution_count": 60
        }
      ]
    },
    {
      "cell_type": "code",
      "metadata": {
        "id": "NJkWA6_hDL_j"
      },
      "source": [
        "tx_class = pd.get_dummies(tx_cluster)"
      ],
      "execution_count": null,
      "outputs": []
    },
    {
      "cell_type": "code",
      "metadata": {
        "colab": {
          "base_uri": "https://localhost:8080/"
        },
        "id": "HB1YUWffDQdU",
        "outputId": "b6098f67-47c0-4230-f67f-46126986c932"
      },
      "source": [
        "corr_matrix = tx_class.corr()\n",
        "corr_matrix['LTVCluster'].sort_values(ascending=False)"
      ],
      "execution_count": null,
      "outputs": [
        {
          "output_type": "execute_result",
          "data": {
            "text/plain": [
              "LTVCluster            1.000000\n",
              "m6_Revenue            0.867601\n",
              "Revenue               0.808438\n",
              "Frequency             0.527689\n",
              "Segment_Silver        0.502959\n",
              "                        ...   \n",
              "CustomerID_13596.0   -0.008248\n",
              "CustomerID_13332.0   -0.008248\n",
              "CustomerID_14946.0   -0.008248\n",
              "Recency              -0.274558\n",
              "Segment_Bronze       -0.502959\n",
              "Name: LTVCluster, Length: 3121, dtype: float64"
            ]
          },
          "metadata": {
            "tags": []
          },
          "execution_count": 62
        }
      ]
    },
    {
      "cell_type": "code",
      "metadata": {
        "id": "xafXvj4ODUeo"
      },
      "source": [
        "X = tx_class.drop(['LTVCluster','m6_Revenue'],axis=1)\n",
        "y = tx_class['LTVCluster']"
      ],
      "execution_count": null,
      "outputs": []
    },
    {
      "cell_type": "code",
      "metadata": {
        "id": "7qTboIpoDZ-y"
      },
      "source": [
        "#split training and test sets\n",
        "from sklearn.model_selection import KFold, cross_val_score, train_test_split\n",
        "X_train, X_test, y_train, y_test = train_test_split(X, y, test_size=0.05, random_state=56)"
      ],
      "execution_count": null,
      "outputs": []
    },
    {
      "cell_type": "code",
      "metadata": {
        "colab": {
          "base_uri": "https://localhost:8080/"
        },
        "id": "KdymWrouEhAt",
        "outputId": "ac5163f8-03e3-42ff-bdf0-629a6a00b4f4"
      },
      "source": [
        "import xgboost as xgb\n",
        "ltv_xgb_model = xgb.XGBClassifier(max_depth=5, learning_rate=0.1,n_jobs=-1).fit(X_train, y_train)\n",
        "\n",
        "print('Accuracy of XGB classifier on training set: {:.2f}'\n",
        "       .format(ltv_xgb_model.score(X_train, y_train)))\n",
        "print('Accuracy of XGB classifier on test set: {:.2f}'\n",
        "       .format(ltv_xgb_model.score(X_test[X_train.columns], y_test)))\n",
        "\n",
        "y_pred = ltv_xgb_model.predict(X_test)"
      ],
      "execution_count": null,
      "outputs": [
        {
          "output_type": "stream",
          "text": [
            "Accuracy of XGB classifier on training set: 0.97\n",
            "Accuracy of XGB classifier on test set: 0.92\n"
          ],
          "name": "stdout"
        }
      ]
    },
    {
      "cell_type": "code",
      "metadata": {
        "id": "V292RourYQQ2"
      },
      "source": [
        "from sklearn.model_selection import cross_val_score\n",
        "\n",
        "cross_val=cross_val_score(ltv_xgb_model,X,y,cv=10,scoring='accuracy').mean()"
      ],
      "execution_count": null,
      "outputs": []
    },
    {
      "cell_type": "code",
      "metadata": {
        "colab": {
          "base_uri": "https://localhost:8080/"
        },
        "id": "O0FSafYiazjD",
        "outputId": "4e8c920f-0599-4b97-ea9b-74a073f33323"
      },
      "source": [
        "cross_val"
      ],
      "execution_count": null,
      "outputs": [
        {
          "output_type": "execute_result",
          "data": {
            "text/plain": [
              "0.8807073954983922"
            ]
          },
          "metadata": {
            "tags": []
          },
          "execution_count": 121
        }
      ]
    },
    {
      "cell_type": "code",
      "metadata": {
        "id": "qEZiw-mLbC8m"
      },
      "source": [
        "filename = 'SimpleXgboost'\n",
        "pickle.dump(ltv_xgb_model, open(filename, 'wb'))"
      ],
      "execution_count": null,
      "outputs": []
    },
    {
      "cell_type": "markdown",
      "metadata": {
        "id": "RXJv24G1jHsE"
      },
      "source": [
        "***Tuning XGB Model***"
      ]
    },
    {
      "cell_type": "code",
      "metadata": {
        "id": "WBZIGm94V_iJ"
      },
      "source": [
        "from sklearn.model_selection import RandomizedSearchCV"
      ],
      "execution_count": null,
      "outputs": []
    },
    {
      "cell_type": "code",
      "metadata": {
        "id": "XGHrbDhXon7W"
      },
      "source": [
        "\n",
        "from scipy.stats import randint"
      ],
      "execution_count": null,
      "outputs": []
    },
    {
      "cell_type": "code",
      "metadata": {
        "id": "ejnmOwT0uPvS"
      },
      "source": [
        "from sklearn.preprocessing import StandardScaler\n",
        "sc = StandardScaler()\n",
        "X_train = sc.fit_transform(X_train)\n",
        "X_test = sc.transform(X_test)"
      ],
      "execution_count": null,
      "outputs": []
    },
    {
      "cell_type": "code",
      "metadata": {
        "id": "O23L3ldVVSQX"
      },
      "source": [
        "params={\n",
        " \"learning_rate\"    : [0.05, 0.10, 0.15, 0.20, 0.25, 0.30 ] ,\n",
        " \"max_depth\"        : [ 3, 4, 5, 6, 8, 10, 12, 15],\n",
        " \"min_child_weight\" : [ 1, 3, 5, 7 ],\n",
        " \"gamma\"            : [ 0.0, 0.1, 0.2 , 0.3, 0.4 ],\n",
        " \"colsample_bytree\" : [ 0.3, 0.4, 0.5 , 0.7 ]\n",
        "    \n",
        "}"
      ],
      "execution_count": null,
      "outputs": []
    },
    {
      "cell_type": "code",
      "metadata": {
        "id": "NUUhrGgaVo0C"
      },
      "source": [
        "random_classifier = xgb.XGBClassifier()"
      ],
      "execution_count": null,
      "outputs": []
    },
    {
      "cell_type": "code",
      "metadata": {
        "id": "1IERflOzViOQ"
      },
      "source": [
        "random_search=RandomizedSearchCV(random_classifier,param_distributions=params,n_iter=5,n_jobs=-1,cv=5,verbose=3)"
      ],
      "execution_count": null,
      "outputs": []
    },
    {
      "cell_type": "code",
      "metadata": {
        "id": "VnErj77Tdtnk"
      },
      "source": [
        "from sklearn import preprocessing\n",
        "z = preprocessing.label_binarize(y, classes=[0, 1, 2, 3])"
      ],
      "execution_count": null,
      "outputs": []
    },
    {
      "cell_type": "code",
      "metadata": {
        "colab": {
          "base_uri": "https://localhost:8080/"
        },
        "id": "48iCT2NYV84n",
        "outputId": "5b1594a6-b371-4551-a806-f5cd9e3f788b"
      },
      "source": [
        "random_search.fit(X, y)\n",
        "print(random_search.best_params_)"
      ],
      "execution_count": null,
      "outputs": [
        {
          "output_type": "stream",
          "text": [
            "Fitting 5 folds for each of 5 candidates, totalling 25 fits\n"
          ],
          "name": "stdout"
        },
        {
          "output_type": "stream",
          "text": [
            "[Parallel(n_jobs=-1)]: Using backend LokyBackend with 2 concurrent workers.\n",
            "[Parallel(n_jobs=-1)]: Done  25 out of  25 | elapsed:  9.6min finished\n"
          ],
          "name": "stderr"
        },
        {
          "output_type": "stream",
          "text": [
            "{'min_child_weight': 5, 'max_depth': 4, 'learning_rate': 0.05, 'gamma': 0.0, 'colsample_bytree': 0.4}\n"
          ],
          "name": "stdout"
        }
      ]
    },
    {
      "cell_type": "code",
      "metadata": {
        "colab": {
          "base_uri": "https://localhost:8080/"
        },
        "id": "RAM3WAmHiGMX",
        "outputId": "98ac4252-ebdd-4a36-8bc7-32da336cfd90"
      },
      "source": [
        "random_search.best_score_"
      ],
      "execution_count": null,
      "outputs": [
        {
          "output_type": "execute_result",
          "data": {
            "text/plain": [
              "0.8765273311897108"
            ]
          },
          "metadata": {
            "tags": []
          },
          "execution_count": 129
        }
      ]
    },
    {
      "cell_type": "code",
      "metadata": {
        "id": "K8lmhC1dhmlh"
      },
      "source": [
        "tuned_xgb = xgb.XGBClassifier(min_child_weight=5,max_depth=4,learning_rate=0.05,gamma=0.0,colsample_bytree=0.4)"
      ],
      "execution_count": null,
      "outputs": []
    },
    {
      "cell_type": "code",
      "metadata": {
        "colab": {
          "base_uri": "https://localhost:8080/"
        },
        "id": "zFtA791xiVkA",
        "outputId": "93301eb7-ccca-4c10-caa6-36c863410a26"
      },
      "source": [
        "tuned_xgb.fit(X_train,y_train)"
      ],
      "execution_count": null,
      "outputs": [
        {
          "output_type": "execute_result",
          "data": {
            "text/plain": [
              "XGBClassifier(base_score=0.5, booster='gbtree', colsample_bylevel=1,\n",
              "              colsample_bynode=1, colsample_bytree=0.4, gamma=0.0,\n",
              "              learning_rate=0.05, max_delta_step=0, max_depth=4,\n",
              "              min_child_weight=5, missing=None, n_estimators=100, n_jobs=1,\n",
              "              nthread=None, objective='multi:softprob', random_state=0,\n",
              "              reg_alpha=0, reg_lambda=1, scale_pos_weight=1, seed=None,\n",
              "              silent=None, subsample=1, verbosity=1)"
            ]
          },
          "metadata": {
            "tags": []
          },
          "execution_count": 130
        }
      ]
    },
    {
      "cell_type": "code",
      "metadata": {
        "id": "pj8zT-JZilhe"
      },
      "source": [
        "y_pred = tuned_xgb.predict(X_test)"
      ],
      "execution_count": null,
      "outputs": []
    },
    {
      "cell_type": "code",
      "metadata": {
        "id": "QxNDqPb3jVfU"
      },
      "source": [
        "from sklearn.metrics import confusion_matrix,accuracy_score\n",
        "cm = confusion_matrix(y_test, y_pred)\n",
        "\n",
        "accuracy_score=accuracy_score(y_test,y_pred)"
      ],
      "execution_count": null,
      "outputs": []
    },
    {
      "cell_type": "code",
      "metadata": {
        "colab": {
          "base_uri": "https://localhost:8080/"
        },
        "id": "daYtimqzjWXb",
        "outputId": "ad5e8d0a-4bc3-4078-8e07-06c5d50f9e34"
      },
      "source": [
        "accuracy_score"
      ],
      "execution_count": null,
      "outputs": [
        {
          "output_type": "execute_result",
          "data": {
            "text/plain": [
              "0.9551282051282052"
            ]
          },
          "metadata": {
            "tags": []
          },
          "execution_count": 141
        }
      ]
    },
    {
      "cell_type": "code",
      "metadata": {
        "id": "ixHcjD3FjXG_"
      },
      "source": [
        "from sklearn.model_selection import cross_val_score\n",
        "\n",
        "cross_val=cross_val_score(tuned_xgb,X,y,cv=10,scoring='accuracy').mean()"
      ],
      "execution_count": null,
      "outputs": []
    },
    {
      "cell_type": "code",
      "metadata": {
        "colab": {
          "base_uri": "https://localhost:8080/"
        },
        "id": "ONPGR9Woj4em",
        "outputId": "9a731f45-4b6d-4eed-badd-3516e8777163"
      },
      "source": [
        "cross_val"
      ],
      "execution_count": null,
      "outputs": [
        {
          "output_type": "execute_result",
          "data": {
            "text/plain": [
              "0.8893890675241156"
            ]
          },
          "metadata": {
            "tags": []
          },
          "execution_count": 143
        }
      ]
    },
    {
      "cell_type": "code",
      "metadata": {
        "id": "ZLccvsAwknPU"
      },
      "source": [
        "filename = 'TunedXgboost'\n",
        "pickle.dump(tuned_xgb, open(filename, 'wb'))"
      ],
      "execution_count": null,
      "outputs": []
    },
    {
      "cell_type": "markdown",
      "metadata": {
        "id": "qQCwIIIPhXQW"
      },
      "source": [
        "***Using Random Forest Classifier***"
      ]
    },
    {
      "cell_type": "code",
      "metadata": {
        "id": "XL9G1lORGhxJ"
      },
      "source": [
        "from sklearn.ensemble import RandomForestClassifier"
      ],
      "execution_count": null,
      "outputs": []
    },
    {
      "cell_type": "code",
      "metadata": {
        "id": "ASdb0JNBGpHG"
      },
      "source": [
        "est = RandomForestClassifier(n_jobs=-1)\n",
        "rf_p_dist={'max_depth':[3,5,10,None],\n",
        "              'n_estimators':[10,100,200,300,400,500],\n",
        "              'max_features':randint(1,3),\n",
        "               'criterion':['gini','entropy'],\n",
        "               'bootstrap':[True,False],\n",
        "               'min_samples_leaf':randint(1,4),\n",
        "              }\n",
        "def hypertuning_rscv(est, p_distr, nbr_iter,X,y):\n",
        "    rdmsearch = RandomizedSearchCV(est, param_distributions=p_distr,\n",
        "                                  n_jobs=-1, n_iter=nbr_iter, cv=9)\n",
        "    #CV = Cross-Validation ( here using Stratified KFold CV)\n",
        "    rdmsearch.fit(X,y)\n",
        "    ht_params = rdmsearch.best_params_\n",
        "    ht_score = rdmsearch.best_score_\n",
        "    return ht_params, ht_score\n",
        "\n",
        "rf_parameters, rf_ht_score = hypertuning_rscv(est, rf_p_dist, 40, X, y)"
      ],
      "execution_count": null,
      "outputs": []
    },
    {
      "cell_type": "code",
      "metadata": {
        "colab": {
          "base_uri": "https://localhost:8080/"
        },
        "id": "K91vvUQqGu50",
        "outputId": "88c4cfc1-f644-4005-9b28-4e888b72c74f"
      },
      "source": [
        "print(rf_parameters)"
      ],
      "execution_count": null,
      "outputs": [
        {
          "output_type": "stream",
          "text": [
            "{'bootstrap': False, 'criterion': 'gini', 'max_depth': None, 'max_features': 1, 'min_samples_leaf': 1, 'n_estimators': 200}\n"
          ],
          "name": "stdout"
        }
      ]
    },
    {
      "cell_type": "code",
      "metadata": {
        "colab": {
          "base_uri": "https://localhost:8080/"
        },
        "id": "C4C6a_feJUPu",
        "outputId": "928785a6-a0a9-449c-d809-7dc9ec68901a"
      },
      "source": [
        "clasifier=RandomForestClassifier(bootstrap= False, criterion= 'gini', max_depth= None, max_features= 1, min_samples_leaf= 1, n_estimators= 200)\n",
        "\n",
        "clasifier.fit(X_train,y_train)"
      ],
      "execution_count": null,
      "outputs": [
        {
          "output_type": "execute_result",
          "data": {
            "text/plain": [
              "RandomForestClassifier(bootstrap=False, ccp_alpha=0.0, class_weight=None,\n",
              "                       criterion='gini', max_depth=None, max_features=1,\n",
              "                       max_leaf_nodes=None, max_samples=None,\n",
              "                       min_impurity_decrease=0.0, min_impurity_split=None,\n",
              "                       min_samples_leaf=1, min_samples_split=2,\n",
              "                       min_weight_fraction_leaf=0.0, n_estimators=200,\n",
              "                       n_jobs=None, oob_score=False, random_state=None,\n",
              "                       verbose=0, warm_start=False)"
            ]
          },
          "metadata": {
            "tags": []
          },
          "execution_count": 94
        }
      ]
    },
    {
      "cell_type": "code",
      "metadata": {
        "id": "8zOoCCI9KCl-"
      },
      "source": [
        "y_pred = clasifier.predict(X_test)"
      ],
      "execution_count": null,
      "outputs": []
    },
    {
      "cell_type": "code",
      "metadata": {
        "id": "n3BLdetEKGL8"
      },
      "source": [
        "from sklearn.metrics import confusion_matrix,accuracy_score\n",
        "cm = confusion_matrix(y_test, y_pred)\n",
        "\n",
        "accuracy_score=accuracy_score(y_test,y_pred)"
      ],
      "execution_count": null,
      "outputs": []
    },
    {
      "cell_type": "code",
      "metadata": {
        "colab": {
          "base_uri": "https://localhost:8080/"
        },
        "id": "7OpBe4zjPEEm",
        "outputId": "4267a192-5e6d-4581-a57f-bb7abe8a090e"
      },
      "source": [
        "accuracy_score"
      ],
      "execution_count": null,
      "outputs": [
        {
          "output_type": "execute_result",
          "data": {
            "text/plain": [
              "0.9423076923076923"
            ]
          },
          "metadata": {
            "tags": []
          },
          "execution_count": 97
        }
      ]
    },
    {
      "cell_type": "code",
      "metadata": {
        "id": "Db4_U9U5PFjO"
      },
      "source": [
        "from sklearn.model_selection import cross_val_score\n",
        "\n",
        "cross_val=cross_val_score(clasifier,X,y,cv=10,scoring='accuracy').mean()"
      ],
      "execution_count": null,
      "outputs": []
    },
    {
      "cell_type": "code",
      "metadata": {
        "colab": {
          "base_uri": "https://localhost:8080/"
        },
        "id": "Rg8-OKWrSKWE",
        "outputId": "e488c977-01ee-4392-a70b-9c19f82df6a9"
      },
      "source": [
        "cross_val"
      ],
      "execution_count": null,
      "outputs": [
        {
          "output_type": "execute_result",
          "data": {
            "text/plain": [
              "0.8633440514469453"
            ]
          },
          "metadata": {
            "tags": []
          },
          "execution_count": 105
        }
      ]
    },
    {
      "cell_type": "code",
      "metadata": {
        "id": "1f5gMzmkPNB1"
      },
      "source": [
        "import pickle"
      ],
      "execution_count": null,
      "outputs": []
    },
    {
      "cell_type": "code",
      "metadata": {
        "id": "_eXCP0ewQrwP"
      },
      "source": [
        "filename = 'random_forest_retail.sav'\n",
        "pickle.dump(clasifier, open(filename, 'wb'))"
      ],
      "execution_count": null,
      "outputs": []
    },
    {
      "cell_type": "code",
      "metadata": {
        "colab": {
          "base_uri": "https://localhost:8080/"
        },
        "id": "MlcMN6W0RKLt",
        "outputId": "ea20c6f7-69a2-4175-ab4a-a6d1caa856b2"
      },
      "source": [
        "!ls"
      ],
      "execution_count": null,
      "outputs": [
        {
          "output_type": "stream",
          "text": [
            "Online_Retail.xlsx  random_forest_retail.sav  sample_data\n"
          ],
          "name": "stdout"
        }
      ]
    },
    {
      "cell_type": "code",
      "metadata": {
        "id": "Akhot-w6RS61"
      },
      "source": [
        ""
      ],
      "execution_count": null,
      "outputs": []
    }
  ]
}